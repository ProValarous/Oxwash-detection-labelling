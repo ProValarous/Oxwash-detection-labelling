{
  "cells": [
    {
      "cell_type": "code",
      "execution_count": 4,
      "metadata": {
        "colab": {
          "base_uri": "https://localhost:8080/"
        },
        "id": "6FeB4VA754NO",
        "outputId": "a3ff143e-f004-436c-b94d-4b7ebb8f5d8c"
      },
      "outputs": [
        {
          "ename": "ModuleNotFoundError",
          "evalue": "No module named 'google.colab'",
          "output_type": "error",
          "traceback": [
            "\u001b[1;31m---------------------------------------------------------------------------\u001b[0m",
            "\u001b[1;31mModuleNotFoundError\u001b[0m                       Traceback (most recent call last)",
            "\u001b[1;32m<ipython-input-4-636f7e70c0f3>\u001b[0m in \u001b[0;36m<module>\u001b[1;34m\u001b[0m\n\u001b[1;32m----> 1\u001b[1;33m \u001b[1;32mfrom\u001b[0m \u001b[0mgoogle\u001b[0m\u001b[1;33m.\u001b[0m\u001b[0mcolab\u001b[0m \u001b[1;32mimport\u001b[0m \u001b[0mdrive\u001b[0m\u001b[1;33m\u001b[0m\u001b[1;33m\u001b[0m\u001b[0m\n\u001b[0m\u001b[0;32m      2\u001b[0m \u001b[0mdrive\u001b[0m\u001b[1;33m.\u001b[0m\u001b[0mmount\u001b[0m\u001b[1;33m(\u001b[0m\u001b[1;34m'/content/drive'\u001b[0m\u001b[1;33m,\u001b[0m\u001b[0mforce_remount\u001b[0m\u001b[1;33m=\u001b[0m\u001b[1;32mTrue\u001b[0m\u001b[1;33m)\u001b[0m\u001b[1;33m\u001b[0m\u001b[1;33m\u001b[0m\u001b[0m\n",
            "\u001b[1;31mModuleNotFoundError\u001b[0m: No module named 'google.colab'"
          ]
        }
      ],
      "source": [
        "from google-colab import drive\n",
        "drive.mount('/content/drive',force_remount=True)"
      ]
    },
    {
      "cell_type": "code",
      "execution_count": 2,
      "metadata": {
        "colab": {
          "base_uri": "https://localhost:8080/"
        },
        "id": "NFhnUJRXvqgO",
        "outputId": "6ab60fb6-c7ba-4129-8165-e79a532f47ec"
      },
      "outputs": [
        {
          "name": "stdout",
          "output_type": "stream",
          "text": [
            "Looking in indexes: https://pypi.org/simple, https://us-python.pkg.dev/colab-wheels/public/simple/\n",
            "Requirement already satisfied: tensorflow-addons in /usr/local/lib/python3.7/dist-packages (0.17.1)\n",
            "Requirement already satisfied: packaging in /usr/local/lib/python3.7/dist-packages (from tensorflow-addons) (21.3)\n",
            "Requirement already satisfied: typeguard>=2.7 in /usr/local/lib/python3.7/dist-packages (from tensorflow-addons) (2.7.1)\n",
            "Requirement already satisfied: pyparsing!=3.0.5,>=2.0.2 in /usr/local/lib/python3.7/dist-packages (from packaging->tensorflow-addons) (3.0.9)\n"
          ]
        }
      ],
      "source": [
        "%pip install tensorflow-addons"
      ]
    },
    {
      "cell_type": "code",
      "execution_count": 3,
      "metadata": {
        "colab": {
          "base_uri": "https://localhost:8080/"
        },
        "id": "I1kHmtFuOJEq",
        "outputId": "d9e72649-2459-40eb-d0e7-60696f78fba7"
      },
      "outputs": [
        {
          "name": "stdout",
          "output_type": "stream",
          "text": [
            "`%tensorflow_version` only switches the major version: 1.x or 2.x.\n",
            "You set: `2.9.1`. This will be interpreted as: `2.x`.\n",
            "\n",
            "\n",
            "TensorFlow 2.x selected.\n"
          ]
        }
      ],
      "source": [
        "%tensorflow_version 2.9.1"
      ]
    },
    {
      "cell_type": "code",
      "execution_count": 29,
      "metadata": {
        "id": "sdNWin7y57RP"
      },
      "outputs": [],
      "source": [
        "import numpy as np\n",
        "import matplotlib.pyplot as plt\n",
        "import os\n",
        "import cv2\n",
        "import random\n",
        "from sklearn.model_selection import train_test_split\n",
        "import tensorflow as tf\n",
        "import tensorflow_hub as hub"
      ]
    },
    {
      "cell_type": "code",
      "execution_count": 31,
      "metadata": {
        "colab": {
          "base_uri": "https://localhost:8080/"
        },
        "id": "s4PTDG7DN4bB",
        "outputId": "d7426210-eee5-4706-9dea-b28a058f9543"
      },
      "outputs": [
        {
          "name": "stdout",
          "output_type": "stream",
          "text": [
            "2.8.2\n"
          ]
        }
      ],
      "source": [
        "print(tf.__version__)"
      ]
    },
    {
      "cell_type": "code",
      "execution_count": 60,
      "metadata": {
        "colab": {
          "base_uri": "https://localhost:8080/"
        },
        "id": "57D4MC486I4K",
        "outputId": "1a36664b-1f2e-40a6-e419-73417e68c994"
      },
      "outputs": [
        {
          "name": "stdout",
          "output_type": "stream",
          "text": [
            "39\n"
          ]
        }
      ],
      "source": [
        "main_dir = \"/content/drive/MyDrive/oxwash/dataset2/data/individual_care_symbols/datasetv4\"\n",
        "\n",
        "categories = [\"unspecified_material\",\"bleaching_any\",\n",
        "              \"bleaching_not\",\n",
        "              \"bleaching_onlySome\",\"drying_flat\",\"drying_flat_drip\",\"drying_flat_drip_shade\",\"drying_flat_shade\",\"drying_line\",\n",
        "              \"drying_line_drip\",\"drying_line_drip_shade\",\"drying_line_shade\",\"drying_tumble_lower_60\",\"drying_tumble_normal_80\",\"drying_tumble_not\",\n",
        "              \"ironing_not\",\"ironing_plate_110\",\"ironing_plate_150\",\"ironing_plate_200\",\"professional_dry_mild_F\",\"professional_dry_mild_P\",\n",
        "              \"professional_dry_normal_F\",\"professional_dry_normal_P\",\"professional_dry_not\",\"professional_wet_mild_W\",\"professional_wet_normal_W\",\n",
        "              \"professional_wet_not\",\"professional_wet_veryMild_W\",\"washing_hand_40\",\"washing_mild_30\",\"washing_mild_40\",\"washing_mild_60\",\n",
        "              \"washing_normal_30\",\"washing_normal_40\",\"washing_normal_60\",\"washing_normal_95\",\"washing_not\",\"washing_veryMild_30\",\"washing_veryMild_40\"]\n",
        "\n",
        "\n",
        "print(len(categories)) "
      ]
    },
    {
      "cell_type": "code",
      "execution_count": 134,
      "metadata": {
        "colab": {
          "base_uri": "https://localhost:8080/",
          "height": 35
        },
        "id": "nD_RFt1W7zJ_",
        "outputId": "c683a058-c6d8-4fc0-cc54-23ea1aa5c63d"
      },
      "outputs": [
        {
          "data": {
            "application/vnd.google.colaboratory.intrinsic+json": {
              "type": "string"
            },
            "text/plain": [
              "\" new_array = cv2.resize(img_array, (IMG_SIZE, IMG_SIZE))\\nplt.imshow(new_array, cmap='gray')\\nplt.show() \""
            ]
          },
          "execution_count": 134,
          "metadata": {},
          "output_type": "execute_result"
        }
      ],
      "source": [
        "IMG_SIZE = 32\n",
        "\n",
        "''' new_array = cv2.resize(img_array, (IMG_SIZE, IMG_SIZE))\n",
        "plt.imshow(new_array, cmap='gray')\n",
        "plt.show() '''"
      ]
    },
    {
      "cell_type": "code",
      "execution_count": 135,
      "metadata": {
        "colab": {
          "base_uri": "https://localhost:8080/"
        },
        "id": "lkBdILQAQ7qB",
        "outputId": "97b93cd0-3290-4a47-e217-6f09518a2347"
      },
      "outputs": [
        {
          "name": "stdout",
          "output_type": "stream",
          "text": [
            "/content/drive/MyDrive/oxwash/dataset2/data/individual_care_symbols/datasetv4/bleaching_not/0.png\n",
            "/content/drive/MyDrive/oxwash/dataset2/data/individual_care_symbols/datasetv4/bleaching_not/1.png\n",
            "/content/drive/MyDrive/oxwash/dataset2/data/individual_care_symbols/datasetv4/bleaching_not/3.png\n",
            "/content/drive/MyDrive/oxwash/dataset2/data/individual_care_symbols/datasetv4/bleaching_not/4.png\n",
            "/content/drive/MyDrive/oxwash/dataset2/data/individual_care_symbols/datasetv4/bleaching_not/5.png\n",
            "/content/drive/MyDrive/oxwash/dataset2/data/individual_care_symbols/datasetv4/bleaching_not/6.png\n",
            "/content/drive/MyDrive/oxwash/dataset2/data/individual_care_symbols/datasetv4/bleaching_not/7.png\n",
            "/content/drive/MyDrive/oxwash/dataset2/data/individual_care_symbols/datasetv4/bleaching_not/8.png\n",
            "/content/drive/MyDrive/oxwash/dataset2/data/individual_care_symbols/datasetv4/bleaching_not/10.png\n",
            "/content/drive/MyDrive/oxwash/dataset2/data/individual_care_symbols/datasetv4/bleaching_not/11.png\n",
            "/content/drive/MyDrive/oxwash/dataset2/data/individual_care_symbols/datasetv4/bleaching_not/12.png\n",
            "/content/drive/MyDrive/oxwash/dataset2/data/individual_care_symbols/datasetv4/bleaching_not/14.png\n",
            "/content/drive/MyDrive/oxwash/dataset2/data/individual_care_symbols/datasetv4/bleaching_not/15.png\n",
            "/content/drive/MyDrive/oxwash/dataset2/data/individual_care_symbols/datasetv4/bleaching_not/16.png\n",
            "/content/drive/MyDrive/oxwash/dataset2/data/individual_care_symbols/datasetv4/bleaching_not/17.png\n",
            "/content/drive/MyDrive/oxwash/dataset2/data/individual_care_symbols/datasetv4/bleaching_not/18.png\n",
            "/content/drive/MyDrive/oxwash/dataset2/data/individual_care_symbols/datasetv4/bleaching_not/19.png\n",
            "/content/drive/MyDrive/oxwash/dataset2/data/individual_care_symbols/datasetv4/bleaching_not/20.png\n",
            "/content/drive/MyDrive/oxwash/dataset2/data/individual_care_symbols/datasetv4/bleaching_not/21.png\n",
            "/content/drive/MyDrive/oxwash/dataset2/data/individual_care_symbols/datasetv4/bleaching_not/22.png\n",
            "/content/drive/MyDrive/oxwash/dataset2/data/individual_care_symbols/datasetv4/bleaching_not/23.png\n",
            "/content/drive/MyDrive/oxwash/dataset2/data/individual_care_symbols/datasetv4/bleaching_not/24.png\n",
            "/content/drive/MyDrive/oxwash/dataset2/data/individual_care_symbols/datasetv4/bleaching_not/25.png\n",
            "/content/drive/MyDrive/oxwash/dataset2/data/individual_care_symbols/datasetv4/bleaching_not/27.png\n",
            "/content/drive/MyDrive/oxwash/dataset2/data/individual_care_symbols/datasetv4/bleaching_not/28.png\n",
            "/content/drive/MyDrive/oxwash/dataset2/data/individual_care_symbols/datasetv4/bleaching_not/29.png\n",
            "/content/drive/MyDrive/oxwash/dataset2/data/individual_care_symbols/datasetv4/bleaching_not/30.png\n",
            "/content/drive/MyDrive/oxwash/dataset2/data/individual_care_symbols/datasetv4/bleaching_not/31.png\n",
            "/content/drive/MyDrive/oxwash/dataset2/data/individual_care_symbols/datasetv4/bleaching_not/32.png\n",
            "/content/drive/MyDrive/oxwash/dataset2/data/individual_care_symbols/datasetv4/bleaching_not/33.png\n",
            "/content/drive/MyDrive/oxwash/dataset2/data/individual_care_symbols/datasetv4/bleaching_not/34.png\n",
            "/content/drive/MyDrive/oxwash/dataset2/data/individual_care_symbols/datasetv4/bleaching_not/35.png\n",
            "/content/drive/MyDrive/oxwash/dataset2/data/individual_care_symbols/datasetv4/bleaching_not/36.png\n",
            "/content/drive/MyDrive/oxwash/dataset2/data/individual_care_symbols/datasetv4/bleaching_not/37.png\n",
            "/content/drive/MyDrive/oxwash/dataset2/data/individual_care_symbols/datasetv4/bleaching_not/38.png\n",
            "/content/drive/MyDrive/oxwash/dataset2/data/individual_care_symbols/datasetv4/bleaching_not/39.png\n",
            "/content/drive/MyDrive/oxwash/dataset2/data/individual_care_symbols/datasetv4/drying_flat/0.png\n",
            "/content/drive/MyDrive/oxwash/dataset2/data/individual_care_symbols/datasetv4/drying_flat/3.png\n",
            "/content/drive/MyDrive/oxwash/dataset2/data/individual_care_symbols/datasetv4/drying_flat/4.png\n",
            "/content/drive/MyDrive/oxwash/dataset2/data/individual_care_symbols/datasetv4/drying_flat/5.png\n",
            "/content/drive/MyDrive/oxwash/dataset2/data/individual_care_symbols/datasetv4/drying_flat/6.png\n",
            "/content/drive/MyDrive/oxwash/dataset2/data/individual_care_symbols/datasetv4/drying_flat/7.png\n",
            "/content/drive/MyDrive/oxwash/dataset2/data/individual_care_symbols/datasetv4/drying_flat/8.png\n",
            "/content/drive/MyDrive/oxwash/dataset2/data/individual_care_symbols/datasetv4/drying_flat/11.png\n",
            "/content/drive/MyDrive/oxwash/dataset2/data/individual_care_symbols/datasetv4/drying_flat/12.png\n",
            "/content/drive/MyDrive/oxwash/dataset2/data/individual_care_symbols/datasetv4/drying_flat/19.png\n",
            "/content/drive/MyDrive/oxwash/dataset2/data/individual_care_symbols/datasetv4/drying_flat/28.png\n",
            "/content/drive/MyDrive/oxwash/dataset2/data/individual_care_symbols/datasetv4/drying_flat/29.png\n",
            "/content/drive/MyDrive/oxwash/dataset2/data/individual_care_symbols/datasetv4/drying_flat/39.png\n",
            "/content/drive/MyDrive/oxwash/dataset2/data/individual_care_symbols/datasetv4/drying_tumble_lower_60/1.png\n",
            "/content/drive/MyDrive/oxwash/dataset2/data/individual_care_symbols/datasetv4/drying_tumble_lower_60/10.png\n",
            "/content/drive/MyDrive/oxwash/dataset2/data/individual_care_symbols/datasetv4/drying_tumble_lower_60/14.png\n",
            "/content/drive/MyDrive/oxwash/dataset2/data/individual_care_symbols/datasetv4/drying_tumble_lower_60/21.png\n",
            "/content/drive/MyDrive/oxwash/dataset2/data/individual_care_symbols/datasetv4/drying_tumble_lower_60/35.png\n",
            "/content/drive/MyDrive/oxwash/dataset2/data/individual_care_symbols/datasetv4/drying_tumble_normal_80/26.png\n",
            "/content/drive/MyDrive/oxwash/dataset2/data/individual_care_symbols/datasetv4/drying_tumble_not/12.png\n",
            "/content/drive/MyDrive/oxwash/dataset2/data/individual_care_symbols/datasetv4/drying_tumble_not/16.png\n",
            "/content/drive/MyDrive/oxwash/dataset2/data/individual_care_symbols/datasetv4/drying_tumble_not/17.png\n",
            "/content/drive/MyDrive/oxwash/dataset2/data/individual_care_symbols/datasetv4/drying_tumble_not/18.png\n",
            "/content/drive/MyDrive/oxwash/dataset2/data/individual_care_symbols/datasetv4/drying_tumble_not/22.png\n",
            "/content/drive/MyDrive/oxwash/dataset2/data/individual_care_symbols/datasetv4/drying_tumble_not/24.png\n",
            "/content/drive/MyDrive/oxwash/dataset2/data/individual_care_symbols/datasetv4/drying_tumble_not/25.png\n",
            "/content/drive/MyDrive/oxwash/dataset2/data/individual_care_symbols/datasetv4/drying_tumble_not/28.png\n",
            "/content/drive/MyDrive/oxwash/dataset2/data/individual_care_symbols/datasetv4/drying_tumble_not/31.png\n",
            "/content/drive/MyDrive/oxwash/dataset2/data/individual_care_symbols/datasetv4/drying_tumble_not/32.png\n",
            "/content/drive/MyDrive/oxwash/dataset2/data/individual_care_symbols/datasetv4/drying_tumble_not/33.png\n",
            "/content/drive/MyDrive/oxwash/dataset2/data/individual_care_symbols/datasetv4/drying_tumble_not/37.png\n",
            "/content/drive/MyDrive/oxwash/dataset2/data/individual_care_symbols/datasetv4/drying_tumble_not/38.png\n",
            "/content/drive/MyDrive/oxwash/dataset2/data/individual_care_symbols/datasetv4/ironing_not/10.png\n",
            "/content/drive/MyDrive/oxwash/dataset2/data/individual_care_symbols/datasetv4/ironing_not/14.png\n",
            "/content/drive/MyDrive/oxwash/dataset2/data/individual_care_symbols/datasetv4/ironing_not/25.png\n",
            "/content/drive/MyDrive/oxwash/dataset2/data/individual_care_symbols/datasetv4/ironing_plate_110/3.png\n",
            "/content/drive/MyDrive/oxwash/dataset2/data/individual_care_symbols/datasetv4/ironing_plate_110/6.png\n",
            "/content/drive/MyDrive/oxwash/dataset2/data/individual_care_symbols/datasetv4/ironing_plate_110/7.png\n",
            "/content/drive/MyDrive/oxwash/dataset2/data/individual_care_symbols/datasetv4/ironing_plate_110/8.png\n",
            "/content/drive/MyDrive/oxwash/dataset2/data/individual_care_symbols/datasetv4/ironing_plate_110/11.png\n",
            "/content/drive/MyDrive/oxwash/dataset2/data/individual_care_symbols/datasetv4/ironing_plate_110/12.png\n",
            "/content/drive/MyDrive/oxwash/dataset2/data/individual_care_symbols/datasetv4/ironing_plate_110/16.png\n",
            "/content/drive/MyDrive/oxwash/dataset2/data/individual_care_symbols/datasetv4/ironing_plate_110/17.png\n",
            "/content/drive/MyDrive/oxwash/dataset2/data/individual_care_symbols/datasetv4/ironing_plate_110/18.png\n",
            "/content/drive/MyDrive/oxwash/dataset2/data/individual_care_symbols/datasetv4/ironing_plate_110/19.png\n",
            "/content/drive/MyDrive/oxwash/dataset2/data/individual_care_symbols/datasetv4/ironing_plate_110/21.png\n",
            "/content/drive/MyDrive/oxwash/dataset2/data/individual_care_symbols/datasetv4/ironing_plate_110/23.png\n",
            "/content/drive/MyDrive/oxwash/dataset2/data/individual_care_symbols/datasetv4/ironing_plate_110/24.png\n",
            "/content/drive/MyDrive/oxwash/dataset2/data/individual_care_symbols/datasetv4/ironing_plate_110/29.png\n",
            "/content/drive/MyDrive/oxwash/dataset2/data/individual_care_symbols/datasetv4/ironing_plate_110/30.png\n",
            "/content/drive/MyDrive/oxwash/dataset2/data/individual_care_symbols/datasetv4/ironing_plate_110/32.png\n",
            "/content/drive/MyDrive/oxwash/dataset2/data/individual_care_symbols/datasetv4/ironing_plate_110/33.png\n",
            "/content/drive/MyDrive/oxwash/dataset2/data/individual_care_symbols/datasetv4/ironing_plate_110/34.png\n",
            "/content/drive/MyDrive/oxwash/dataset2/data/individual_care_symbols/datasetv4/ironing_plate_110/35.png\n",
            "/content/drive/MyDrive/oxwash/dataset2/data/individual_care_symbols/datasetv4/ironing_plate_110/36.png\n",
            "/content/drive/MyDrive/oxwash/dataset2/data/individual_care_symbols/datasetv4/ironing_plate_110/37.png\n",
            "/content/drive/MyDrive/oxwash/dataset2/data/individual_care_symbols/datasetv4/ironing_plate_110/38.png\n",
            "/content/drive/MyDrive/oxwash/dataset2/data/individual_care_symbols/datasetv4/ironing_plate_110/39.png\n",
            "/content/drive/MyDrive/oxwash/dataset2/data/individual_care_symbols/datasetv4/ironing_plate_150/0.png\n",
            "/content/drive/MyDrive/oxwash/dataset2/data/individual_care_symbols/datasetv4/ironing_plate_150/1.png\n",
            "/content/drive/MyDrive/oxwash/dataset2/data/individual_care_symbols/datasetv4/ironing_plate_150/4.png\n",
            "/content/drive/MyDrive/oxwash/dataset2/data/individual_care_symbols/datasetv4/ironing_plate_150/5.png\n",
            "/content/drive/MyDrive/oxwash/dataset2/data/individual_care_symbols/datasetv4/ironing_plate_150/20.png\n",
            "/content/drive/MyDrive/oxwash/dataset2/data/individual_care_symbols/datasetv4/ironing_plate_150/22.png\n",
            "/content/drive/MyDrive/oxwash/dataset2/data/individual_care_symbols/datasetv4/ironing_plate_150/26.png\n",
            "/content/drive/MyDrive/oxwash/dataset2/data/individual_care_symbols/datasetv4/ironing_plate_150/27.png\n",
            "/content/drive/MyDrive/oxwash/dataset2/data/individual_care_symbols/datasetv4/ironing_plate_150/28.png\n",
            "/content/drive/MyDrive/oxwash/dataset2/data/individual_care_symbols/datasetv4/ironing_plate_150/31.png\n",
            "/content/drive/MyDrive/oxwash/dataset2/data/individual_care_symbols/datasetv4/ironing_plate_200/15.png\n",
            "/content/drive/MyDrive/oxwash/dataset2/data/individual_care_symbols/datasetv4/professional_dry_mild_P/11.png\n",
            "/content/drive/MyDrive/oxwash/dataset2/data/individual_care_symbols/datasetv4/professional_dry_normal_P/0.png\n",
            "/content/drive/MyDrive/oxwash/dataset2/data/individual_care_symbols/datasetv4/professional_dry_normal_P/3.png\n",
            "/content/drive/MyDrive/oxwash/dataset2/data/individual_care_symbols/datasetv4/professional_dry_normal_P/4.png\n",
            "/content/drive/MyDrive/oxwash/dataset2/data/individual_care_symbols/datasetv4/professional_dry_normal_P/5.png\n",
            "/content/drive/MyDrive/oxwash/dataset2/data/individual_care_symbols/datasetv4/professional_dry_normal_P/6.png\n",
            "/content/drive/MyDrive/oxwash/dataset2/data/individual_care_symbols/datasetv4/professional_dry_normal_P/7.png\n",
            "/content/drive/MyDrive/oxwash/dataset2/data/individual_care_symbols/datasetv4/professional_dry_normal_P/8.png\n",
            "/content/drive/MyDrive/oxwash/dataset2/data/individual_care_symbols/datasetv4/professional_dry_normal_P/12.png\n",
            "/content/drive/MyDrive/oxwash/dataset2/data/individual_care_symbols/datasetv4/professional_dry_normal_P/16.png\n",
            "/content/drive/MyDrive/oxwash/dataset2/data/individual_care_symbols/datasetv4/professional_dry_normal_P/20.png\n",
            "/content/drive/MyDrive/oxwash/dataset2/data/individual_care_symbols/datasetv4/professional_dry_normal_P/25.png\n",
            "/content/drive/MyDrive/oxwash/dataset2/data/individual_care_symbols/datasetv4/professional_dry_normal_P/27.png\n",
            "/content/drive/MyDrive/oxwash/dataset2/data/individual_care_symbols/datasetv4/professional_dry_normal_P/28.png\n",
            "/content/drive/MyDrive/oxwash/dataset2/data/individual_care_symbols/datasetv4/professional_dry_normal_P/29.png\n",
            "/content/drive/MyDrive/oxwash/dataset2/data/individual_care_symbols/datasetv4/professional_dry_normal_P/31.png\n",
            "/content/drive/MyDrive/oxwash/dataset2/data/individual_care_symbols/datasetv4/professional_dry_normal_P/34.png\n",
            "/content/drive/MyDrive/oxwash/dataset2/data/individual_care_symbols/datasetv4/professional_dry_not/1.png\n",
            "/content/drive/MyDrive/oxwash/dataset2/data/individual_care_symbols/datasetv4/professional_dry_not/10.png\n",
            "/content/drive/MyDrive/oxwash/dataset2/data/individual_care_symbols/datasetv4/professional_dry_not/14.png\n",
            "/content/drive/MyDrive/oxwash/dataset2/data/individual_care_symbols/datasetv4/professional_dry_not/17.png\n",
            "/content/drive/MyDrive/oxwash/dataset2/data/individual_care_symbols/datasetv4/professional_dry_not/19.png\n",
            "/content/drive/MyDrive/oxwash/dataset2/data/individual_care_symbols/datasetv4/professional_dry_not/21.png\n",
            "/content/drive/MyDrive/oxwash/dataset2/data/individual_care_symbols/datasetv4/professional_dry_not/22.png\n",
            "/content/drive/MyDrive/oxwash/dataset2/data/individual_care_symbols/datasetv4/professional_dry_not/24.png\n",
            "/content/drive/MyDrive/oxwash/dataset2/data/individual_care_symbols/datasetv4/professional_dry_not/32.png\n",
            "/content/drive/MyDrive/oxwash/dataset2/data/individual_care_symbols/datasetv4/professional_dry_not/33.png\n",
            "/content/drive/MyDrive/oxwash/dataset2/data/individual_care_symbols/datasetv4/professional_dry_not/35.png\n",
            "/content/drive/MyDrive/oxwash/dataset2/data/individual_care_symbols/datasetv4/professional_dry_not/37.png\n",
            "/content/drive/MyDrive/oxwash/dataset2/data/individual_care_symbols/datasetv4/professional_dry_not/38.png\n",
            "/content/drive/MyDrive/oxwash/dataset2/data/individual_care_symbols/datasetv4/professional_dry_not/39.png\n",
            "/content/drive/MyDrive/oxwash/dataset2/data/individual_care_symbols/datasetv4/washing_hand_40/16.png\n",
            "/content/drive/MyDrive/oxwash/dataset2/data/individual_care_symbols/datasetv4/washing_hand_40/17.png\n",
            "/content/drive/MyDrive/oxwash/dataset2/data/individual_care_symbols/datasetv4/washing_hand_40/33.png\n",
            "/content/drive/MyDrive/oxwash/dataset2/data/individual_care_symbols/datasetv4/washing_hand_40/34.png\n",
            "/content/drive/MyDrive/oxwash/dataset2/data/individual_care_symbols/datasetv4/washing_hand_40/35.png\n",
            "/content/drive/MyDrive/oxwash/dataset2/data/individual_care_symbols/datasetv4/washing_hand_40/38.png\n",
            "/content/drive/MyDrive/oxwash/dataset2/data/individual_care_symbols/datasetv4/washing_mild_30/12.png\n",
            "/content/drive/MyDrive/oxwash/dataset2/data/individual_care_symbols/datasetv4/washing_mild_30/21.png\n",
            "/content/drive/MyDrive/oxwash/dataset2/data/individual_care_symbols/datasetv4/washing_mild_30/39.png\n",
            "/content/drive/MyDrive/oxwash/dataset2/data/individual_care_symbols/datasetv4/washing_normal_30/0.png\n",
            "/content/drive/MyDrive/oxwash/dataset2/data/individual_care_symbols/datasetv4/washing_normal_30/3.png\n",
            "/content/drive/MyDrive/oxwash/dataset2/data/individual_care_symbols/datasetv4/washing_normal_30/4.png\n",
            "/content/drive/MyDrive/oxwash/dataset2/data/individual_care_symbols/datasetv4/washing_normal_30/5.png\n",
            "/content/drive/MyDrive/oxwash/dataset2/data/individual_care_symbols/datasetv4/washing_normal_30/6.png\n",
            "/content/drive/MyDrive/oxwash/dataset2/data/individual_care_symbols/datasetv4/washing_normal_30/7.png\n",
            "/content/drive/MyDrive/oxwash/dataset2/data/individual_care_symbols/datasetv4/washing_normal_30/8.png\n",
            "/content/drive/MyDrive/oxwash/dataset2/data/individual_care_symbols/datasetv4/washing_normal_30/10.png\n",
            "/content/drive/MyDrive/oxwash/dataset2/data/individual_care_symbols/datasetv4/washing_normal_30/11.png\n",
            "/content/drive/MyDrive/oxwash/dataset2/data/individual_care_symbols/datasetv4/washing_normal_30/15.png\n",
            "/content/drive/MyDrive/oxwash/dataset2/data/individual_care_symbols/datasetv4/washing_normal_30/18.png\n",
            "/content/drive/MyDrive/oxwash/dataset2/data/individual_care_symbols/datasetv4/washing_normal_30/19.png\n",
            "/content/drive/MyDrive/oxwash/dataset2/data/individual_care_symbols/datasetv4/washing_normal_30/29.png\n",
            "/content/drive/MyDrive/oxwash/dataset2/data/individual_care_symbols/datasetv4/washing_normal_40/1.png\n",
            "/content/drive/MyDrive/oxwash/dataset2/data/individual_care_symbols/datasetv4/washing_normal_40/22.png\n",
            "/content/drive/MyDrive/oxwash/dataset2/data/individual_care_symbols/datasetv4/washing_normal_40/24.png\n",
            "/content/drive/MyDrive/oxwash/dataset2/data/individual_care_symbols/datasetv4/washing_normal_40/26.png\n",
            "/content/drive/MyDrive/oxwash/dataset2/data/individual_care_symbols/datasetv4/washing_normal_40/28.png\n",
            "/content/drive/MyDrive/oxwash/dataset2/data/individual_care_symbols/datasetv4/washing_normal_40/36.png\n",
            "/content/drive/MyDrive/oxwash/dataset2/data/individual_care_symbols/datasetv4/washing_normal_40/37.png\n",
            "/content/drive/MyDrive/oxwash/dataset2/data/individual_care_symbols/datasetv4/washing_not/25.png\n",
            "/content/drive/MyDrive/oxwash/dataset2/data/individual_care_symbols/datasetv4/washing_not/30.png\n",
            "/content/drive/MyDrive/oxwash/dataset2/data/individual_care_symbols/datasetv4/washing_veryMild_40/14.png\n",
            "/content/drive/MyDrive/oxwash/dataset2/data/individual_care_symbols/datasetv4/washing_veryMild_40/20.png\n",
            "/content/drive/MyDrive/oxwash/dataset2/data/individual_care_symbols/datasetv4/washing_veryMild_40/27.png\n",
            "/content/drive/MyDrive/oxwash/dataset2/data/individual_care_symbols/datasetv4/washing_veryMild_40/31.png\n",
            "/content/drive/MyDrive/oxwash/dataset2/data/individual_care_symbols/datasetv4/washing_veryMild_40/32.png\n"
          ]
        }
      ],
      "source": [
        "training_data = []\n",
        "\n",
        "def create_training_data():\n",
        "    for cat in categories:\n",
        "      path = os.path.join(main_dir,cat)\n",
        "      class_num = categories.index(cat)\n",
        "      for img in os.listdir(path):\n",
        "        #iterate over each image per class\n",
        "        try:\n",
        "            img_array = cv2.imread(os.path.join(path,img), cv2.IMREAD_GRAYSCALE)\n",
        "            print(path+\"/\"+img)  # convert to array\n",
        "            #new_array = img_array\n",
        "            new_array = cv2.resize(img_array, (IMG_SIZE, IMG_SIZE))  # resize to normalize data size\n",
        "            training_data.append([new_array, class_num])  # add this to our training_data\n",
        "        except Exception as e:  # in the interest in keeping the output clean...\n",
        "            pass\n",
        "            #except OSError as e:\n",
        "            #    print(\"OSErrroBad img most likely\", e, os.path.join(path,img))\n",
        "            #except Exception as e:\n",
        "            #    print(\"general exception\", e, os.path.join(path,img))\n",
        "\n",
        "create_training_data()"
      ]
    },
    {
      "cell_type": "code",
      "execution_count": 136,
      "metadata": {
        "colab": {
          "base_uri": "https://localhost:8080/"
        },
        "id": "oBSHnLM0TxNJ",
        "outputId": "94c470c0-74b6-4396-b266-513d7b853179"
      },
      "outputs": [
        {
          "name": "stdout",
          "output_type": "stream",
          "text": [
            "172\n"
          ]
        }
      ],
      "source": [
        "print(len(training_data))"
      ]
    },
    {
      "cell_type": "code",
      "execution_count": 137,
      "metadata": {
        "id": "0EIBCC_PVAQD"
      },
      "outputs": [],
      "source": [
        "#random.shuffle(training_data)"
      ]
    },
    {
      "cell_type": "code",
      "execution_count": 139,
      "metadata": {
        "colab": {
          "base_uri": "https://localhost:8080/",
          "height": 301
        },
        "id": "IsDqaADMVSWN",
        "outputId": "19615264-bd1d-4801-9856-bedd4b0514ea"
      },
      "outputs": [
        {
          "name": "stdout",
          "output_type": "stream",
          "text": [
            "2\n",
            "(32, 32)\n"
          ]
        },
        {
          "data": {
            "image/png": "[encoded data removed]",
            "text/plain": [
              "<Figure size 432x288 with 1 Axes>"
            ]
          },
          "metadata": {
            "needs_background": "light"
          },
          "output_type": "display_data"
        }
      ],
      "source": [
        "print(training_data[0][1])\n",
        "print(training_data[0][0].shape)\n",
        "#print(training_data[0][0])\n",
        "plt.imshow(training_data[0][0]/255, cmap='gray')\n",
        "plt.show() "
      ]
    },
    {
      "cell_type": "code",
      "execution_count": 140,
      "metadata": {
        "id": "ZaMPVgUHVkWB"
      },
      "outputs": [],
      "source": [
        "X = []\n",
        "y = []\n",
        "\n",
        "for features,label in training_data:\n",
        "    X.append(features)\n",
        "    y.append(label)\n",
        "\n",
        "X = np.array(X).reshape(-1, IMG_SIZE, IMG_SIZE, 1)\n",
        "y = np.array(y).astype('int').reshape(-1,1)\n",
        "y = tf.keras.utils.to_categorical(y, num_classes=39)"
      ]
    },
    {
      "cell_type": "code",
      "execution_count": 141,
      "metadata": {
        "colab": {
          "base_uri": "https://localhost:8080/"
        },
        "id": "wyd3u5A5NVPD",
        "outputId": "706a061c-27ac-48d9-e2cb-fd66b0b092d6"
      },
      "outputs": [
        {
          "name": "stdout",
          "output_type": "stream",
          "text": [
            "(172, 32, 32, 1) (172, 39)\n"
          ]
        }
      ],
      "source": [
        "print(X.shape,y.shape)\n",
        "X = X/255"
      ]
    },
    {
      "cell_type": "code",
      "execution_count": 142,
      "metadata": {
        "id": "422oBN3-Vm9r"
      },
      "outputs": [],
      "source": [
        "X_train, X_test, y_train, y_test = train_test_split(X,y, test_size=0.25, train_size=0.75, random_state=42, shuffle=True, stratify=None)"
      ]
    },
    {
      "cell_type": "code",
      "execution_count": 143,
      "metadata": {
        "colab": {
          "base_uri": "https://localhost:8080/"
        },
        "id": "7Hi2t6vdYUVS",
        "outputId": "78df85c5-7ec1-4263-cacf-750b502f3a02"
      },
      "outputs": [
        {
          "name": "stdout",
          "output_type": "stream",
          "text": [
            "(129, 32, 32, 1)\n",
            "(43, 32, 32, 1)\n",
            "(129, 39)\n",
            "(43, 39)\n"
          ]
        }
      ],
      "source": [
        "print(X_train.shape)\n",
        "print(X_test.shape)\n",
        "print(y_train.shape)\n",
        "print(y_test.shape)"
      ]
    },
    {
      "cell_type": "code",
      "execution_count": 144,
      "metadata": {
        "id": "IKpTcCuLOsn8"
      },
      "outputs": [],
      "source": [
        "train_data = (X_train, y_train)\n",
        "test_data = (X_test, y_test)"
      ]
    },
    {
      "cell_type": "code",
      "execution_count": 40,
      "metadata": {
        "id": "MvNUYjcGuOSa"
      },
      "outputs": [],
      "source": [
        "inception_v3 = \"https://tfhub.dev/google/imagenet/inception_v3/classification/5\"\n",
        "classifier_model = inception_v3"
      ]
    },
    {
      "cell_type": "code",
      "execution_count": 62,
      "metadata": {
        "colab": {
          "base_uri": "https://localhost:8080/"
        },
        "id": "3_yruT5nt5YX",
        "outputId": "2b94bf0a-f565-44c7-f9fc-c4b076235021"
      },
      "outputs": [
        {
          "data": {
            "text/plain": [
              "<keras.regularizers.L2 at 0x7fb168d3df10>"
            ]
          },
          "execution_count": 62,
          "metadata": {},
          "output_type": "execute_result"
        }
      ],
      "source": [
        "feature_extractor_layer = hub.KerasLayer(\n",
        "    classifier_model,\n",
        "    input_shape = X_train.shape[1:],\n",
        "    trainable=False)\n",
        "\n",
        "tf.keras.regularizers.L2(l2=0.5)\n"
      ]
    },
    {
      "cell_type": "code",
      "execution_count": 145,
      "metadata": {
        "id": "SXS7dy5K-uyI"
      },
      "outputs": [],
      "source": [
        "def random_invert_img(x, p=0.5):\n",
        "  if  tf.random.uniform([]) < p:\n",
        "    x = (255-x)\n",
        "  else:\n",
        "    x\n",
        "  return x\n",
        "\n",
        "def data_augmenter():\n",
        "    '''\n",
        "    Create a Sequential model composed of 6 layers of preprocessing\n",
        "    Returns:\n",
        "    tf.keras.Sequential\n",
        "    '''\n",
        "    data_augmentation = tf.keras.Sequential()\n",
        "    data_augmentation.add(tf.keras.layers.RandomFlip('horizontal'))\n",
        "    data_augmentation.add(tf.keras.layers.RandomFlip('vertical'))\n",
        "    data_augmentation.add(tf.keras.layers.RandomRotation(factor=0.4, fill_mode=\"wrap\"))\n",
        "    data_augmentation.add(tf.keras.layers.RandomZoom(0.2,0.2))\n",
        "    data_augmentation.add(tf.keras.layers.RandomContrast((0.2,0.75)))\n",
        "    #data_augmentation.add(tf.keras.layers.experimental.RandomBrightness((-0.35,0.35)))\n",
        "    #data_augmentation.add(tf.keras.layers.Lambda(lambda x: random_invert_img(x, 0.25)))\n",
        "\n",
        "    return data_augmentation\n",
        "\n",
        "data_augmentation = data_augmenter()"
      ]
    },
    {
      "cell_type": "code",
      "execution_count": 209,
      "metadata": {
        "id": "ODWy-RB9YnBz"
      },
      "outputs": [],
      "source": [
        "model = tf.keras.models.Sequential([\n",
        "    tf.keras.Input(X_train.shape[1:]),\n",
        "    #data_augmentation,\n",
        "\n",
        "    # layer 1\n",
        "    tf.keras.layers.Conv2D(filters=6, kernel_size=(5,5), strides=(1,1), activation='relu',padding=\"same\"),\n",
        "    tf.keras.layers.MaxPool2D(pool_size=(2,2), strides=(2,2)),\n",
        "    \n",
        "    # layer 2\n",
        "    tf.keras.layers.Conv2D(filters=16, kernel_size=(5,5), strides=(1,1), activation='relu', padding=\"same\"),\n",
        "    tf.keras.layers.MaxPool2D(pool_size=(2,2), strides=(2,2)),\n",
        "\n",
        "    \n",
        "    \n",
        "    # FC Layer\n",
        "    tf.keras.layers.Flatten(),\n",
        "    tf.keras.layers.Dense(400, activation='relu', kernel_regularizer='l2'),\n",
        "    tf.keras.layers.Dense(120, activation='relu',kernel_regularizer='l2'),\n",
        "    tf.keras.layers.Dense(84, activation='relu',kernel_regularizer='l2'),\n",
        "    tf.keras.layers.Dense(39, activation='softmax')\n",
        "])"
      ]
    },
    {
      "cell_type": "code",
      "execution_count": 210,
      "metadata": {
        "colab": {
          "base_uri": "https://localhost:8080/"
        },
        "id": "9pMgfkl6RY3S",
        "outputId": "2a3b6988-5d8e-4639-b657-13bd413c2892"
      },
      "outputs": [
        {
          "name": "stdout",
          "output_type": "stream",
          "text": [
            "Model: \"sequential_29\"\n",
            "_________________________________________________________________\n",
            " Layer (type)                Output Shape              Param #   \n",
            "=================================================================\n",
            " conv2d_77 (Conv2D)          (None, 32, 32, 6)         156       \n",
            "                                                                 \n",
            " max_pooling2d_52 (MaxPoolin  (None, 16, 16, 6)        0         \n",
            " g2D)                                                            \n",
            "                                                                 \n",
            " conv2d_78 (Conv2D)          (None, 16, 16, 16)        2416      \n",
            "                                                                 \n",
            " max_pooling2d_53 (MaxPoolin  (None, 8, 8, 16)         0         \n",
            " g2D)                                                            \n",
            "                                                                 \n",
            " flatten_21 (Flatten)        (None, 1024)              0         \n",
            "                                                                 \n",
            " dense_78 (Dense)            (None, 400)               410000    \n",
            "                                                                 \n",
            " dense_79 (Dense)            (None, 120)               48120     \n",
            "                                                                 \n",
            " dense_80 (Dense)            (None, 84)                10164     \n",
            "                                                                 \n",
            " dense_81 (Dense)            (None, 39)                3315      \n",
            "                                                                 \n",
            "=================================================================\n",
            "Total params: 474,171\n",
            "Trainable params: 474,171\n",
            "Non-trainable params: 0\n",
            "_________________________________________________________________\n"
          ]
        }
      ],
      "source": [
        "model.summary()"
      ]
    },
    {
      "cell_type": "code",
      "execution_count": 211,
      "metadata": {
        "id": "fmucrCF0aU1W"
      },
      "outputs": [],
      "source": [
        "tf.keras.optimizers.Adam(\n",
        "    learning_rate=0.0001,\n",
        "    beta_1=0.9,\n",
        "    beta_2=0.999,\n",
        "    epsilon=1e-07,\n",
        "    amsgrad=False,\n",
        "    name='Adam',\n",
        ")\n",
        "\n",
        "model.compile(optimizer=\"adam\", loss = tf.keras.losses.categorical_crossentropy, metrics=['accuracy'])"
      ]
    },
    {
      "cell_type": "code",
      "execution_count": 212,
      "metadata": {
        "colab": {
          "base_uri": "https://localhost:8080/"
        },
        "id": "-GfMU7HJauv9",
        "outputId": "188b179a-f219-4c9c-874d-4e4ff3dfffec"
      },
      "outputs": [
        {
          "name": "stdout",
          "output_type": "stream",
          "text": [
            "Epoch 1/300\n",
            "9/9 [==============================] - 1s 30ms/step - loss: 11.0514 - accuracy: 0.1395 - val_loss: 9.1246 - val_accuracy: 0.2558\n",
            "Epoch 2/300\n",
            "9/9 [==============================] - 0s 8ms/step - loss: 8.4563 - accuracy: 0.1938 - val_loss: 7.3326 - val_accuracy: 0.2558\n",
            "Epoch 3/300\n",
            "9/9 [==============================] - 0s 7ms/step - loss: 6.8053 - accuracy: 0.1550 - val_loss: 6.0891 - val_accuracy: 0.1395\n",
            "Epoch 4/300\n",
            "9/9 [==============================] - 0s 7ms/step - loss: 5.7123 - accuracy: 0.0930 - val_loss: 5.2549 - val_accuracy: 0.2558\n",
            "Epoch 5/300\n",
            "9/9 [==============================] - 0s 7ms/step - loss: 4.9517 - accuracy: 0.1938 - val_loss: 4.6999 - val_accuracy: 0.2558\n",
            "Epoch 6/300\n",
            "9/9 [==============================] - 0s 7ms/step - loss: 4.4881 - accuracy: 0.0853 - val_loss: 4.2895 - val_accuracy: 0.0465\n",
            "Epoch 7/300\n",
            "9/9 [==============================] - 0s 7ms/step - loss: 4.1170 - accuracy: 0.0698 - val_loss: 3.9873 - val_accuracy: 0.1163\n",
            "Epoch 8/300\n",
            "9/9 [==============================] - 0s 7ms/step - loss: 3.8233 - accuracy: 0.1705 - val_loss: 3.7622 - val_accuracy: 0.2558\n",
            "Epoch 9/300\n",
            "9/9 [==============================] - 0s 7ms/step - loss: 3.6823 - accuracy: 0.1240 - val_loss: 3.6197 - val_accuracy: 0.2558\n",
            "Epoch 10/300\n",
            "9/9 [==============================] - 0s 7ms/step - loss: 3.5361 - accuracy: 0.1938 - val_loss: 3.4829 - val_accuracy: 0.2558\n",
            "Epoch 11/300\n",
            "9/9 [==============================] - 0s 7ms/step - loss: 3.4146 - accuracy: 0.1938 - val_loss: 3.4812 - val_accuracy: 0.1395\n",
            "Epoch 12/300\n",
            "9/9 [==============================] - 0s 8ms/step - loss: 3.3258 - accuracy: 0.1860 - val_loss: 3.3609 - val_accuracy: 0.2558\n",
            "Epoch 13/300\n",
            "9/9 [==============================] - 0s 7ms/step - loss: 3.2473 - accuracy: 0.1938 - val_loss: 3.2293 - val_accuracy: 0.2558\n",
            "Epoch 14/300\n",
            "9/9 [==============================] - 0s 7ms/step - loss: 3.1808 - accuracy: 0.2171 - val_loss: 3.2159 - val_accuracy: 0.1628\n",
            "Epoch 15/300\n",
            "9/9 [==============================] - 0s 7ms/step - loss: 3.1518 - accuracy: 0.1938 - val_loss: 3.1939 - val_accuracy: 0.2558\n",
            "Epoch 16/300\n",
            "9/9 [==============================] - 0s 7ms/step - loss: 3.1465 - accuracy: 0.1938 - val_loss: 3.1461 - val_accuracy: 0.2558\n",
            "Epoch 17/300\n",
            "9/9 [==============================] - 0s 7ms/step - loss: 3.0746 - accuracy: 0.1395 - val_loss: 3.2133 - val_accuracy: 0.0698\n",
            "Epoch 18/300\n",
            "9/9 [==============================] - 0s 9ms/step - loss: 3.0943 - accuracy: 0.1008 - val_loss: 3.1679 - val_accuracy: 0.0698\n",
            "Epoch 19/300\n",
            "9/9 [==============================] - 0s 7ms/step - loss: 3.0064 - accuracy: 0.1705 - val_loss: 3.0501 - val_accuracy: 0.2558\n",
            "Epoch 20/300\n",
            "9/9 [==============================] - 0s 7ms/step - loss: 2.9984 - accuracy: 0.1938 - val_loss: 3.0358 - val_accuracy: 0.2558\n",
            "Epoch 21/300\n",
            "9/9 [==============================] - 0s 7ms/step - loss: 2.9625 - accuracy: 0.1938 - val_loss: 3.0419 - val_accuracy: 0.2558\n",
            "Epoch 22/300\n",
            "9/9 [==============================] - 0s 7ms/step - loss: 2.9430 - accuracy: 0.1938 - val_loss: 3.0112 - val_accuracy: 0.2558\n",
            "Epoch 23/300\n",
            "9/9 [==============================] - 0s 7ms/step - loss: 2.9089 - accuracy: 0.1938 - val_loss: 2.9798 - val_accuracy: 0.2558\n",
            "Epoch 24/300\n",
            "9/9 [==============================] - 0s 9ms/step - loss: 2.8875 - accuracy: 0.1938 - val_loss: 2.9767 - val_accuracy: 0.3023\n",
            "Epoch 25/300\n",
            "9/9 [==============================] - 0s 7ms/step - loss: 2.9014 - accuracy: 0.2403 - val_loss: 2.9635 - val_accuracy: 0.2558\n",
            "Epoch 26/300\n",
            "9/9 [==============================] - 0s 8ms/step - loss: 2.8980 - accuracy: 0.1938 - val_loss: 3.0069 - val_accuracy: 0.2558\n",
            "Epoch 27/300\n",
            "9/9 [==============================] - 0s 7ms/step - loss: 2.8482 - accuracy: 0.2403 - val_loss: 2.9833 - val_accuracy: 0.3721\n",
            "Epoch 28/300\n",
            "9/9 [==============================] - 0s 7ms/step - loss: 2.8470 - accuracy: 0.2558 - val_loss: 2.9342 - val_accuracy: 0.2558\n",
            "Epoch 29/300\n",
            "9/9 [==============================] - 0s 7ms/step - loss: 2.7860 - accuracy: 0.1938 - val_loss: 2.9007 - val_accuracy: 0.2558\n",
            "Epoch 30/300\n",
            "9/9 [==============================] - 0s 6ms/step - loss: 2.7565 - accuracy: 0.2481 - val_loss: 2.8717 - val_accuracy: 0.3256\n",
            "Epoch 31/300\n",
            "9/9 [==============================] - 0s 7ms/step - loss: 2.7669 - accuracy: 0.2093 - val_loss: 2.8139 - val_accuracy: 0.3023\n",
            "Epoch 32/300\n",
            "9/9 [==============================] - 0s 7ms/step - loss: 2.7139 - accuracy: 0.2171 - val_loss: 2.8565 - val_accuracy: 0.3023\n",
            "Epoch 33/300\n",
            "9/9 [==============================] - 0s 7ms/step - loss: 2.6531 - accuracy: 0.2868 - val_loss: 2.7851 - val_accuracy: 0.3256\n",
            "Epoch 34/300\n",
            "9/9 [==============================] - 0s 7ms/step - loss: 2.6192 - accuracy: 0.3178 - val_loss: 2.7894 - val_accuracy: 0.3488\n",
            "Epoch 35/300\n",
            "9/9 [==============================] - 0s 7ms/step - loss: 2.6018 - accuracy: 0.3411 - val_loss: 2.6700 - val_accuracy: 0.3256\n",
            "Epoch 36/300\n",
            "9/9 [==============================] - 0s 7ms/step - loss: 2.6013 - accuracy: 0.3488 - val_loss: 2.6624 - val_accuracy: 0.4186\n",
            "Epoch 37/300\n",
            "9/9 [==============================] - 0s 7ms/step - loss: 2.5275 - accuracy: 0.3178 - val_loss: 2.8336 - val_accuracy: 0.2791\n",
            "Epoch 38/300\n",
            "9/9 [==============================] - 0s 8ms/step - loss: 2.5604 - accuracy: 0.2791 - val_loss: 2.7151 - val_accuracy: 0.3953\n",
            "Epoch 39/300\n",
            "9/9 [==============================] - 0s 7ms/step - loss: 2.4842 - accuracy: 0.3178 - val_loss: 2.5685 - val_accuracy: 0.3721\n",
            "Epoch 40/300\n",
            "9/9 [==============================] - 0s 7ms/step - loss: 2.3984 - accuracy: 0.3411 - val_loss: 2.7968 - val_accuracy: 0.3023\n",
            "Epoch 41/300\n",
            "9/9 [==============================] - 0s 7ms/step - loss: 2.4195 - accuracy: 0.3643 - val_loss: 2.6118 - val_accuracy: 0.3953\n",
            "Epoch 42/300\n",
            "9/9 [==============================] - 0s 8ms/step - loss: 2.3201 - accuracy: 0.3643 - val_loss: 2.8520 - val_accuracy: 0.3256\n",
            "Epoch 43/300\n",
            "9/9 [==============================] - 0s 7ms/step - loss: 2.3226 - accuracy: 0.3643 - val_loss: 2.5176 - val_accuracy: 0.3953\n",
            "Epoch 44/300\n",
            "9/9 [==============================] - 0s 7ms/step - loss: 2.2406 - accuracy: 0.3566 - val_loss: 2.5277 - val_accuracy: 0.3953\n",
            "Epoch 45/300\n",
            "9/9 [==============================] - 0s 7ms/step - loss: 2.2514 - accuracy: 0.4031 - val_loss: 2.6126 - val_accuracy: 0.3721\n",
            "Epoch 46/300\n",
            "9/9 [==============================] - 0s 7ms/step - loss: 2.2243 - accuracy: 0.3798 - val_loss: 2.7826 - val_accuracy: 0.4651\n",
            "Epoch 47/300\n",
            "9/9 [==============================] - 0s 7ms/step - loss: 2.4776 - accuracy: 0.4031 - val_loss: 2.6977 - val_accuracy: 0.3953\n",
            "Epoch 48/300\n",
            "9/9 [==============================] - 0s 7ms/step - loss: 2.2968 - accuracy: 0.3643 - val_loss: 2.6728 - val_accuracy: 0.3953\n",
            "Epoch 49/300\n",
            "9/9 [==============================] - 0s 7ms/step - loss: 2.1375 - accuracy: 0.4806 - val_loss: 2.5864 - val_accuracy: 0.5116\n",
            "Epoch 50/300\n",
            "9/9 [==============================] - 0s 9ms/step - loss: 2.1072 - accuracy: 0.4961 - val_loss: 2.5470 - val_accuracy: 0.4651\n",
            "Epoch 51/300\n",
            "9/9 [==============================] - 0s 7ms/step - loss: 2.0504 - accuracy: 0.4961 - val_loss: 2.5228 - val_accuracy: 0.4186\n",
            "Epoch 52/300\n",
            "9/9 [==============================] - 0s 7ms/step - loss: 1.9382 - accuracy: 0.5426 - val_loss: 2.8288 - val_accuracy: 0.4186\n",
            "Epoch 53/300\n",
            "9/9 [==============================] - 0s 7ms/step - loss: 1.9906 - accuracy: 0.5271 - val_loss: 2.4964 - val_accuracy: 0.4419\n",
            "Epoch 54/300\n",
            "9/9 [==============================] - 0s 7ms/step - loss: 1.8665 - accuracy: 0.5969 - val_loss: 2.4143 - val_accuracy: 0.5116\n",
            "Epoch 55/300\n",
            "9/9 [==============================] - 0s 7ms/step - loss: 1.8354 - accuracy: 0.5736 - val_loss: 2.4374 - val_accuracy: 0.5581\n",
            "Epoch 56/300\n",
            "9/9 [==============================] - 0s 7ms/step - loss: 1.7424 - accuracy: 0.5969 - val_loss: 2.5051 - val_accuracy: 0.5581\n",
            "Epoch 57/300\n",
            "9/9 [==============================] - 0s 7ms/step - loss: 1.7164 - accuracy: 0.6279 - val_loss: 2.7259 - val_accuracy: 0.4419\n",
            "Epoch 58/300\n",
            "9/9 [==============================] - 0s 7ms/step - loss: 1.9566 - accuracy: 0.5969 - val_loss: 2.7631 - val_accuracy: 0.4651\n",
            "Epoch 59/300\n",
            "9/9 [==============================] - 0s 8ms/step - loss: 1.8796 - accuracy: 0.5194 - val_loss: 2.7424 - val_accuracy: 0.4884\n",
            "Epoch 60/300\n",
            "9/9 [==============================] - 0s 7ms/step - loss: 1.7322 - accuracy: 0.6589 - val_loss: 2.7720 - val_accuracy: 0.4419\n",
            "Epoch 61/300\n",
            "9/9 [==============================] - 0s 7ms/step - loss: 1.7393 - accuracy: 0.5814 - val_loss: 2.5479 - val_accuracy: 0.5814\n",
            "Epoch 62/300\n",
            "9/9 [==============================] - 0s 7ms/step - loss: 1.6228 - accuracy: 0.6589 - val_loss: 2.4895 - val_accuracy: 0.5349\n",
            "Epoch 63/300\n",
            "9/9 [==============================] - 0s 7ms/step - loss: 1.5117 - accuracy: 0.6899 - val_loss: 2.5241 - val_accuracy: 0.5581\n",
            "Epoch 64/300\n",
            "9/9 [==============================] - 0s 7ms/step - loss: 1.4090 - accuracy: 0.7287 - val_loss: 2.5169 - val_accuracy: 0.5814\n",
            "Epoch 65/300\n",
            "9/9 [==============================] - 0s 7ms/step - loss: 1.3774 - accuracy: 0.7209 - val_loss: 2.6251 - val_accuracy: 0.5349\n",
            "Epoch 66/300\n",
            "9/9 [==============================] - 0s 7ms/step - loss: 1.3609 - accuracy: 0.7054 - val_loss: 2.5403 - val_accuracy: 0.5349\n",
            "Epoch 67/300\n",
            "9/9 [==============================] - 0s 7ms/step - loss: 1.3195 - accuracy: 0.7442 - val_loss: 2.6122 - val_accuracy: 0.5814\n",
            "Epoch 68/300\n",
            "9/9 [==============================] - 0s 7ms/step - loss: 1.3397 - accuracy: 0.7209 - val_loss: 2.6196 - val_accuracy: 0.5581\n",
            "Epoch 69/300\n",
            "9/9 [==============================] - 0s 7ms/step - loss: 1.3090 - accuracy: 0.7519 - val_loss: 2.6383 - val_accuracy: 0.5116\n",
            "Epoch 70/300\n",
            "9/9 [==============================] - 0s 7ms/step - loss: 1.2289 - accuracy: 0.7597 - val_loss: 2.6759 - val_accuracy: 0.6279\n",
            "Epoch 71/300\n",
            "9/9 [==============================] - 0s 7ms/step - loss: 1.3290 - accuracy: 0.6899 - val_loss: 2.4685 - val_accuracy: 0.6047\n",
            "Epoch 72/300\n",
            "9/9 [==============================] - 0s 8ms/step - loss: 1.2586 - accuracy: 0.7674 - val_loss: 2.5132 - val_accuracy: 0.5814\n",
            "Epoch 73/300\n",
            "9/9 [==============================] - 0s 8ms/step - loss: 1.3202 - accuracy: 0.6899 - val_loss: 2.4254 - val_accuracy: 0.6279\n",
            "Epoch 74/300\n",
            "9/9 [==============================] - 0s 8ms/step - loss: 1.1585 - accuracy: 0.8140 - val_loss: 2.6580 - val_accuracy: 0.6047\n",
            "Epoch 75/300\n",
            "9/9 [==============================] - 0s 7ms/step - loss: 1.2042 - accuracy: 0.7674 - val_loss: 2.7720 - val_accuracy: 0.5349\n",
            "Epoch 76/300\n",
            "9/9 [==============================] - 0s 8ms/step - loss: 1.1402 - accuracy: 0.7752 - val_loss: 2.6236 - val_accuracy: 0.6047\n",
            "Epoch 77/300\n",
            "9/9 [==============================] - 0s 7ms/step - loss: 1.1644 - accuracy: 0.7752 - val_loss: 2.9589 - val_accuracy: 0.4884\n",
            "Epoch 78/300\n",
            "9/9 [==============================] - 0s 7ms/step - loss: 1.0776 - accuracy: 0.8450 - val_loss: 2.7729 - val_accuracy: 0.6047\n",
            "Epoch 79/300\n",
            "9/9 [==============================] - 0s 7ms/step - loss: 1.0280 - accuracy: 0.8295 - val_loss: 2.9597 - val_accuracy: 0.5349\n",
            "Epoch 80/300\n",
            "9/9 [==============================] - 0s 9ms/step - loss: 1.1007 - accuracy: 0.7907 - val_loss: 2.7997 - val_accuracy: 0.6047\n",
            "Epoch 81/300\n",
            "9/9 [==============================] - 0s 7ms/step - loss: 1.0227 - accuracy: 0.8682 - val_loss: 2.7381 - val_accuracy: 0.6047\n",
            "Epoch 82/300\n",
            "9/9 [==============================] - 0s 7ms/step - loss: 0.9092 - accuracy: 0.9070 - val_loss: 3.1521 - val_accuracy: 0.5814\n",
            "Epoch 83/300\n",
            "9/9 [==============================] - 0s 7ms/step - loss: 0.8839 - accuracy: 0.9070 - val_loss: 3.0076 - val_accuracy: 0.5814\n",
            "Epoch 84/300\n",
            "9/9 [==============================] - 0s 7ms/step - loss: 0.8390 - accuracy: 0.9457 - val_loss: 3.1426 - val_accuracy: 0.5814\n",
            "Epoch 85/300\n",
            "9/9 [==============================] - 0s 7ms/step - loss: 0.8223 - accuracy: 0.9302 - val_loss: 3.3260 - val_accuracy: 0.5349\n",
            "Epoch 86/300\n",
            "9/9 [==============================] - 0s 7ms/step - loss: 0.8187 - accuracy: 0.9225 - val_loss: 4.2492 - val_accuracy: 0.4651\n",
            "Epoch 87/300\n",
            "9/9 [==============================] - 0s 7ms/step - loss: 1.6407 - accuracy: 0.6589 - val_loss: 2.8857 - val_accuracy: 0.3953\n",
            "Epoch 88/300\n",
            "9/9 [==============================] - 0s 7ms/step - loss: 1.2027 - accuracy: 0.8527 - val_loss: 2.7438 - val_accuracy: 0.5581\n",
            "Epoch 89/300\n",
            "9/9 [==============================] - 0s 9ms/step - loss: 1.0695 - accuracy: 0.8837 - val_loss: 2.7662 - val_accuracy: 0.6279\n",
            "Epoch 90/300\n",
            "9/9 [==============================] - 0s 7ms/step - loss: 0.9408 - accuracy: 0.8992 - val_loss: 3.1004 - val_accuracy: 0.5814\n",
            "Epoch 91/300\n",
            "9/9 [==============================] - 0s 8ms/step - loss: 0.8882 - accuracy: 0.9457 - val_loss: 3.0107 - val_accuracy: 0.6047\n",
            "Epoch 92/300\n",
            "9/9 [==============================] - 0s 8ms/step - loss: 0.8928 - accuracy: 0.9302 - val_loss: 3.2709 - val_accuracy: 0.5349\n",
            "Epoch 93/300\n",
            "9/9 [==============================] - 0s 7ms/step - loss: 0.9563 - accuracy: 0.8915 - val_loss: 3.2711 - val_accuracy: 0.4884\n",
            "Epoch 94/300\n",
            "9/9 [==============================] - 0s 8ms/step - loss: 0.9305 - accuracy: 0.9070 - val_loss: 3.2512 - val_accuracy: 0.5349\n",
            "Epoch 95/300\n",
            "9/9 [==============================] - 0s 7ms/step - loss: 0.9015 - accuracy: 0.9225 - val_loss: 3.2952 - val_accuracy: 0.5814\n",
            "Epoch 96/300\n",
            "9/9 [==============================] - 0s 7ms/step - loss: 0.9361 - accuracy: 0.8837 - val_loss: 3.2724 - val_accuracy: 0.3953\n",
            "Epoch 97/300\n",
            "9/9 [==============================] - 0s 7ms/step - loss: 0.8434 - accuracy: 0.9302 - val_loss: 3.5938 - val_accuracy: 0.5349\n",
            "Epoch 98/300\n",
            "9/9 [==============================] - 0s 7ms/step - loss: 0.7840 - accuracy: 0.9380 - val_loss: 3.1863 - val_accuracy: 0.6047\n",
            "Epoch 99/300\n",
            "9/9 [==============================] - 0s 7ms/step - loss: 0.7116 - accuracy: 0.9845 - val_loss: 3.3865 - val_accuracy: 0.6047\n",
            "Epoch 100/300\n",
            "9/9 [==============================] - 0s 8ms/step - loss: 0.6751 - accuracy: 0.9845 - val_loss: 3.4146 - val_accuracy: 0.6047\n",
            "Epoch 101/300\n",
            "9/9 [==============================] - 0s 7ms/step - loss: 0.6532 - accuracy: 0.9845 - val_loss: 3.5415 - val_accuracy: 0.6279\n",
            "Epoch 102/300\n",
            "9/9 [==============================] - 0s 7ms/step - loss: 0.6398 - accuracy: 0.9767 - val_loss: 3.6189 - val_accuracy: 0.5581\n",
            "Epoch 103/300\n",
            "9/9 [==============================] - 0s 7ms/step - loss: 0.6360 - accuracy: 0.9922 - val_loss: 3.7230 - val_accuracy: 0.5814\n",
            "Epoch 104/300\n",
            "9/9 [==============================] - 0s 7ms/step - loss: 0.6407 - accuracy: 0.9690 - val_loss: 3.3236 - val_accuracy: 0.5814\n",
            "Epoch 105/300\n",
            "9/9 [==============================] - 0s 7ms/step - loss: 0.6574 - accuracy: 0.9767 - val_loss: 3.8125 - val_accuracy: 0.5116\n",
            "Epoch 106/300\n",
            "9/9 [==============================] - 0s 8ms/step - loss: 0.6103 - accuracy: 0.9922 - val_loss: 3.6007 - val_accuracy: 0.5581\n",
            "Epoch 107/300\n",
            "9/9 [==============================] - 0s 8ms/step - loss: 0.5908 - accuracy: 0.9922 - val_loss: 3.6596 - val_accuracy: 0.6047\n",
            "Epoch 108/300\n",
            "9/9 [==============================] - 0s 7ms/step - loss: 0.5893 - accuracy: 0.9845 - val_loss: 3.6733 - val_accuracy: 0.5814\n",
            "Epoch 109/300\n",
            "9/9 [==============================] - 0s 7ms/step - loss: 0.5690 - accuracy: 0.9922 - val_loss: 3.7026 - val_accuracy: 0.5814\n",
            "Epoch 110/300\n",
            "9/9 [==============================] - 0s 8ms/step - loss: 0.6165 - accuracy: 0.9690 - val_loss: 3.5545 - val_accuracy: 0.5581\n",
            "Epoch 111/300\n",
            "9/9 [==============================] - 0s 7ms/step - loss: 0.6570 - accuracy: 0.9457 - val_loss: 3.3933 - val_accuracy: 0.5814\n",
            "Epoch 112/300\n",
            "9/9 [==============================] - 0s 7ms/step - loss: 0.5905 - accuracy: 0.9922 - val_loss: 3.3689 - val_accuracy: 0.6047\n",
            "Epoch 113/300\n",
            "9/9 [==============================] - 0s 7ms/step - loss: 0.5725 - accuracy: 0.9922 - val_loss: 3.3693 - val_accuracy: 0.5814\n",
            "Epoch 114/300\n",
            "9/9 [==============================] - 0s 8ms/step - loss: 0.6235 - accuracy: 0.9690 - val_loss: 4.2788 - val_accuracy: 0.5116\n",
            "Epoch 115/300\n",
            "9/9 [==============================] - 0s 7ms/step - loss: 0.7108 - accuracy: 0.9535 - val_loss: 3.5008 - val_accuracy: 0.5349\n",
            "Epoch 116/300\n",
            "9/9 [==============================] - 0s 7ms/step - loss: 0.7467 - accuracy: 0.9225 - val_loss: 3.0374 - val_accuracy: 0.5814\n",
            "Epoch 117/300\n",
            "9/9 [==============================] - 0s 7ms/step - loss: 0.8029 - accuracy: 0.9070 - val_loss: 3.3930 - val_accuracy: 0.5349\n",
            "Epoch 118/300\n",
            "9/9 [==============================] - 0s 8ms/step - loss: 0.7235 - accuracy: 0.9690 - val_loss: 3.0496 - val_accuracy: 0.6047\n",
            "Epoch 119/300\n",
            "9/9 [==============================] - 0s 7ms/step - loss: 0.6634 - accuracy: 0.9767 - val_loss: 3.3225 - val_accuracy: 0.5814\n",
            "Epoch 120/300\n",
            "9/9 [==============================] - 0s 7ms/step - loss: 0.6116 - accuracy: 0.9845 - val_loss: 3.4885 - val_accuracy: 0.5349\n",
            "Epoch 121/300\n",
            "9/9 [==============================] - 0s 10ms/step - loss: 0.6417 - accuracy: 0.9845 - val_loss: 3.8343 - val_accuracy: 0.5581\n",
            "Epoch 122/300\n",
            "9/9 [==============================] - 0s 7ms/step - loss: 0.6407 - accuracy: 0.9690 - val_loss: 3.3331 - val_accuracy: 0.5814\n",
            "Epoch 123/300\n",
            "9/9 [==============================] - 0s 7ms/step - loss: 0.5952 - accuracy: 0.9922 - val_loss: 3.4997 - val_accuracy: 0.5814\n",
            "Epoch 124/300\n",
            "9/9 [==============================] - 0s 7ms/step - loss: 0.6133 - accuracy: 0.9767 - val_loss: 3.7564 - val_accuracy: 0.5814\n",
            "Epoch 125/300\n",
            "9/9 [==============================] - 0s 8ms/step - loss: 0.6089 - accuracy: 0.9845 - val_loss: 3.3516 - val_accuracy: 0.6047\n",
            "Epoch 126/300\n",
            "9/9 [==============================] - 0s 7ms/step - loss: 0.5501 - accuracy: 0.9922 - val_loss: 3.7489 - val_accuracy: 0.5581\n",
            "Epoch 127/300\n",
            "9/9 [==============================] - 0s 7ms/step - loss: 0.5753 - accuracy: 0.9767 - val_loss: 3.6985 - val_accuracy: 0.6047\n",
            "Epoch 128/300\n",
            "9/9 [==============================] - 0s 9ms/step - loss: 0.5644 - accuracy: 0.9922 - val_loss: 3.2700 - val_accuracy: 0.6279\n",
            "Epoch 129/300\n",
            "9/9 [==============================] - 0s 7ms/step - loss: 0.5491 - accuracy: 0.9922 - val_loss: 3.6106 - val_accuracy: 0.5814\n",
            "Epoch 130/300\n",
            "9/9 [==============================] - 0s 7ms/step - loss: 0.5363 - accuracy: 0.9922 - val_loss: 3.6031 - val_accuracy: 0.5581\n",
            "Epoch 131/300\n",
            "9/9 [==============================] - 0s 7ms/step - loss: 0.5112 - accuracy: 0.9922 - val_loss: 3.4141 - val_accuracy: 0.5814\n",
            "Epoch 132/300\n",
            "9/9 [==============================] - 0s 7ms/step - loss: 0.5213 - accuracy: 0.9845 - val_loss: 3.7076 - val_accuracy: 0.5814\n",
            "Epoch 133/300\n",
            "9/9 [==============================] - 0s 7ms/step - loss: 0.5082 - accuracy: 0.9845 - val_loss: 3.2872 - val_accuracy: 0.6512\n",
            "Epoch 134/300\n",
            "9/9 [==============================] - 0s 7ms/step - loss: 0.5091 - accuracy: 0.9845 - val_loss: 3.7207 - val_accuracy: 0.5349\n",
            "Epoch 135/300\n",
            "9/9 [==============================] - 0s 9ms/step - loss: 0.5113 - accuracy: 0.9922 - val_loss: 3.4024 - val_accuracy: 0.6047\n",
            "Epoch 136/300\n",
            "9/9 [==============================] - 0s 7ms/step - loss: 0.5602 - accuracy: 0.9767 - val_loss: 4.1835 - val_accuracy: 0.4651\n",
            "Epoch 137/300\n",
            "9/9 [==============================] - 0s 7ms/step - loss: 0.6844 - accuracy: 0.9147 - val_loss: 3.6608 - val_accuracy: 0.5116\n",
            "Epoch 138/300\n",
            "9/9 [==============================] - 0s 8ms/step - loss: 0.6832 - accuracy: 0.9225 - val_loss: 3.0395 - val_accuracy: 0.6047\n",
            "Epoch 139/300\n",
            "9/9 [==============================] - 0s 7ms/step - loss: 0.5906 - accuracy: 0.9845 - val_loss: 3.2834 - val_accuracy: 0.6512\n",
            "Epoch 140/300\n",
            "9/9 [==============================] - 0s 7ms/step - loss: 0.5980 - accuracy: 0.9845 - val_loss: 3.7457 - val_accuracy: 0.5116\n",
            "Epoch 141/300\n",
            "9/9 [==============================] - 0s 7ms/step - loss: 0.6258 - accuracy: 0.9612 - val_loss: 3.2270 - val_accuracy: 0.6279\n",
            "Epoch 142/300\n",
            "9/9 [==============================] - 0s 10ms/step - loss: 0.5475 - accuracy: 0.9767 - val_loss: 3.0358 - val_accuracy: 0.6047\n",
            "Epoch 143/300\n",
            "9/9 [==============================] - 0s 8ms/step - loss: 0.7940 - accuracy: 0.8915 - val_loss: 3.0037 - val_accuracy: 0.6512\n",
            "Epoch 144/300\n",
            "9/9 [==============================] - 0s 7ms/step - loss: 1.1353 - accuracy: 0.8217 - val_loss: 3.5726 - val_accuracy: 0.3488\n",
            "Epoch 145/300\n",
            "9/9 [==============================] - 0s 7ms/step - loss: 0.9003 - accuracy: 0.8605 - val_loss: 2.6280 - val_accuracy: 0.6744\n",
            "Epoch 146/300\n",
            "9/9 [==============================] - 0s 9ms/step - loss: 0.7965 - accuracy: 0.8915 - val_loss: 2.6020 - val_accuracy: 0.5814\n",
            "Epoch 147/300\n",
            "9/9 [==============================] - 0s 8ms/step - loss: 0.7091 - accuracy: 0.9690 - val_loss: 2.8734 - val_accuracy: 0.5814\n",
            "Epoch 148/300\n",
            "9/9 [==============================] - 0s 8ms/step - loss: 0.6211 - accuracy: 0.9845 - val_loss: 2.9974 - val_accuracy: 0.6512\n",
            "Epoch 149/300\n",
            "9/9 [==============================] - 0s 7ms/step - loss: 0.6300 - accuracy: 0.9767 - val_loss: 3.1279 - val_accuracy: 0.6744\n",
            "Epoch 150/300\n",
            "9/9 [==============================] - 0s 7ms/step - loss: 0.6050 - accuracy: 0.9457 - val_loss: 3.3812 - val_accuracy: 0.6512\n",
            "Epoch 151/300\n",
            "9/9 [==============================] - 0s 7ms/step - loss: 0.5684 - accuracy: 0.9767 - val_loss: 3.0243 - val_accuracy: 0.6279\n",
            "Epoch 152/300\n",
            "9/9 [==============================] - 0s 7ms/step - loss: 0.5433 - accuracy: 0.9922 - val_loss: 3.3651 - val_accuracy: 0.6512\n",
            "Epoch 153/300\n",
            "9/9 [==============================] - 0s 8ms/step - loss: 0.5252 - accuracy: 0.9922 - val_loss: 3.2982 - val_accuracy: 0.6512\n",
            "Epoch 154/300\n",
            "9/9 [==============================] - 0s 7ms/step - loss: 0.5100 - accuracy: 0.9922 - val_loss: 3.3778 - val_accuracy: 0.6279\n",
            "Epoch 155/300\n",
            "9/9 [==============================] - 0s 8ms/step - loss: 0.5040 - accuracy: 0.9922 - val_loss: 3.4873 - val_accuracy: 0.6279\n",
            "Epoch 156/300\n",
            "9/9 [==============================] - 0s 7ms/step - loss: 0.4876 - accuracy: 0.9922 - val_loss: 3.4167 - val_accuracy: 0.6512\n",
            "Epoch 157/300\n",
            "9/9 [==============================] - 0s 7ms/step - loss: 0.4750 - accuracy: 0.9922 - val_loss: 3.4376 - val_accuracy: 0.6512\n",
            "Epoch 158/300\n",
            "9/9 [==============================] - 0s 9ms/step - loss: 0.4701 - accuracy: 0.9922 - val_loss: 3.5524 - val_accuracy: 0.6512\n",
            "Epoch 159/300\n",
            "9/9 [==============================] - 0s 7ms/step - loss: 0.4656 - accuracy: 0.9922 - val_loss: 3.4153 - val_accuracy: 0.6512\n",
            "Epoch 160/300\n",
            "9/9 [==============================] - 0s 7ms/step - loss: 0.4553 - accuracy: 0.9922 - val_loss: 3.4323 - val_accuracy: 0.6512\n",
            "Epoch 161/300\n",
            "9/9 [==============================] - 0s 9ms/step - loss: 0.4469 - accuracy: 0.9922 - val_loss: 3.3141 - val_accuracy: 0.6512\n",
            "Epoch 162/300\n",
            "9/9 [==============================] - 0s 9ms/step - loss: 0.4448 - accuracy: 0.9845 - val_loss: 3.4090 - val_accuracy: 0.6512\n",
            "Epoch 163/300\n",
            "9/9 [==============================] - 0s 8ms/step - loss: 0.4451 - accuracy: 0.9845 - val_loss: 3.3927 - val_accuracy: 0.6279\n",
            "Epoch 164/300\n",
            "9/9 [==============================] - 0s 7ms/step - loss: 0.4401 - accuracy: 0.9845 - val_loss: 3.2815 - val_accuracy: 0.6512\n",
            "Epoch 165/300\n",
            "9/9 [==============================] - 0s 9ms/step - loss: 0.4256 - accuracy: 0.9922 - val_loss: 3.3162 - val_accuracy: 0.6512\n",
            "Epoch 166/300\n",
            "9/9 [==============================] - 0s 7ms/step - loss: 0.4164 - accuracy: 0.9922 - val_loss: 3.3019 - val_accuracy: 0.6279\n",
            "Epoch 167/300\n",
            "9/9 [==============================] - 0s 7ms/step - loss: 0.4187 - accuracy: 0.9845 - val_loss: 3.1690 - val_accuracy: 0.6512\n",
            "Epoch 168/300\n",
            "9/9 [==============================] - 0s 10ms/step - loss: 0.4236 - accuracy: 0.9845 - val_loss: 3.2426 - val_accuracy: 0.6512\n",
            "Epoch 169/300\n",
            "9/9 [==============================] - 0s 8ms/step - loss: 0.4058 - accuracy: 0.9922 - val_loss: 3.2918 - val_accuracy: 0.6512\n",
            "Epoch 170/300\n",
            "9/9 [==============================] - 0s 8ms/step - loss: 0.4092 - accuracy: 0.9922 - val_loss: 3.1190 - val_accuracy: 0.6279\n",
            "Epoch 171/300\n",
            "9/9 [==============================] - 0s 8ms/step - loss: 0.4198 - accuracy: 0.9922 - val_loss: 3.5956 - val_accuracy: 0.5349\n",
            "Epoch 172/300\n",
            "9/9 [==============================] - 0s 7ms/step - loss: 0.4102 - accuracy: 0.9922 - val_loss: 3.2204 - val_accuracy: 0.6279\n",
            "Epoch 173/300\n",
            "9/9 [==============================] - 0s 7ms/step - loss: 0.4511 - accuracy: 0.9767 - val_loss: 3.4128 - val_accuracy: 0.5116\n",
            "Epoch 174/300\n",
            "9/9 [==============================] - 0s 7ms/step - loss: 1.0627 - accuracy: 0.7597 - val_loss: 2.6698 - val_accuracy: 0.5814\n",
            "Epoch 175/300\n",
            "9/9 [==============================] - 0s 9ms/step - loss: 0.8202 - accuracy: 0.9147 - val_loss: 2.2720 - val_accuracy: 0.6512\n",
            "Epoch 176/300\n",
            "9/9 [==============================] - 0s 8ms/step - loss: 0.6722 - accuracy: 0.9380 - val_loss: 3.0656 - val_accuracy: 0.5349\n",
            "Epoch 177/300\n",
            "9/9 [==============================] - 0s 7ms/step - loss: 0.6035 - accuracy: 0.9612 - val_loss: 2.8388 - val_accuracy: 0.5814\n",
            "Epoch 178/300\n",
            "9/9 [==============================] - 0s 7ms/step - loss: 0.5631 - accuracy: 0.9612 - val_loss: 3.4245 - val_accuracy: 0.5814\n",
            "Epoch 179/300\n",
            "9/9 [==============================] - 0s 7ms/step - loss: 0.5458 - accuracy: 0.9767 - val_loss: 2.8630 - val_accuracy: 0.5814\n",
            "Epoch 180/300\n",
            "9/9 [==============================] - 0s 7ms/step - loss: 0.5173 - accuracy: 0.9922 - val_loss: 3.1490 - val_accuracy: 0.6512\n",
            "Epoch 181/300\n",
            "9/9 [==============================] - 0s 8ms/step - loss: 0.5066 - accuracy: 0.9845 - val_loss: 3.3280 - val_accuracy: 0.5581\n",
            "Epoch 182/300\n",
            "9/9 [==============================] - 0s 8ms/step - loss: 0.4536 - accuracy: 0.9922 - val_loss: 3.2519 - val_accuracy: 0.6047\n",
            "Epoch 183/300\n",
            "9/9 [==============================] - 0s 7ms/step - loss: 0.4396 - accuracy: 0.9922 - val_loss: 3.2688 - val_accuracy: 0.6047\n",
            "Epoch 184/300\n",
            "9/9 [==============================] - 0s 9ms/step - loss: 0.4250 - accuracy: 0.9922 - val_loss: 3.3880 - val_accuracy: 0.6279\n",
            "Epoch 185/300\n",
            "9/9 [==============================] - 0s 7ms/step - loss: 0.4138 - accuracy: 0.9922 - val_loss: 3.3178 - val_accuracy: 0.6279\n",
            "Epoch 186/300\n",
            "9/9 [==============================] - 0s 7ms/step - loss: 0.4050 - accuracy: 0.9845 - val_loss: 3.3716 - val_accuracy: 0.6512\n",
            "Epoch 187/300\n",
            "9/9 [==============================] - 0s 8ms/step - loss: 0.4017 - accuracy: 0.9845 - val_loss: 3.3083 - val_accuracy: 0.6047\n",
            "Epoch 188/300\n",
            "9/9 [==============================] - 0s 9ms/step - loss: 0.3972 - accuracy: 0.9922 - val_loss: 3.3729 - val_accuracy: 0.6047\n",
            "Epoch 189/300\n",
            "9/9 [==============================] - 0s 7ms/step - loss: 0.3921 - accuracy: 0.9922 - val_loss: 3.3309 - val_accuracy: 0.6279\n",
            "Epoch 190/300\n",
            "9/9 [==============================] - 0s 9ms/step - loss: 0.3958 - accuracy: 0.9845 - val_loss: 3.2077 - val_accuracy: 0.6279\n",
            "Epoch 191/300\n",
            "9/9 [==============================] - 0s 9ms/step - loss: 0.3799 - accuracy: 0.9922 - val_loss: 3.2218 - val_accuracy: 0.5814\n",
            "Epoch 192/300\n",
            "9/9 [==============================] - 0s 9ms/step - loss: 0.3772 - accuracy: 0.9922 - val_loss: 3.3103 - val_accuracy: 0.6047\n",
            "Epoch 193/300\n",
            "9/9 [==============================] - 0s 7ms/step - loss: 0.3765 - accuracy: 0.9845 - val_loss: 3.1646 - val_accuracy: 0.6279\n",
            "Epoch 194/300\n",
            "9/9 [==============================] - 0s 10ms/step - loss: 0.3726 - accuracy: 0.9922 - val_loss: 3.2318 - val_accuracy: 0.6279\n",
            "Epoch 195/300\n",
            "9/9 [==============================] - 0s 9ms/step - loss: 0.3773 - accuracy: 0.9922 - val_loss: 3.1479 - val_accuracy: 0.5814\n",
            "Epoch 196/300\n",
            "9/9 [==============================] - 0s 8ms/step - loss: 0.3855 - accuracy: 0.9845 - val_loss: 3.4683 - val_accuracy: 0.5349\n",
            "Epoch 197/300\n",
            "9/9 [==============================] - 0s 9ms/step - loss: 0.4009 - accuracy: 0.9922 - val_loss: 3.0568 - val_accuracy: 0.6279\n",
            "Epoch 198/300\n",
            "9/9 [==============================] - 0s 7ms/step - loss: 0.4006 - accuracy: 0.9922 - val_loss: 3.4502 - val_accuracy: 0.5116\n",
            "Epoch 199/300\n",
            "9/9 [==============================] - 0s 7ms/step - loss: 0.3902 - accuracy: 0.9922 - val_loss: 3.0277 - val_accuracy: 0.5814\n",
            "Epoch 200/300\n",
            "9/9 [==============================] - 0s 8ms/step - loss: 0.3741 - accuracy: 0.9922 - val_loss: 3.1104 - val_accuracy: 0.6047\n",
            "Epoch 201/300\n",
            "9/9 [==============================] - 0s 8ms/step - loss: 0.3761 - accuracy: 0.9922 - val_loss: 3.1079 - val_accuracy: 0.6047\n",
            "Epoch 202/300\n",
            "9/9 [==============================] - 0s 7ms/step - loss: 0.3806 - accuracy: 0.9845 - val_loss: 3.1600 - val_accuracy: 0.6047\n",
            "Epoch 203/300\n",
            "9/9 [==============================] - 0s 9ms/step - loss: 0.3891 - accuracy: 0.9845 - val_loss: 3.0071 - val_accuracy: 0.5581\n",
            "Epoch 204/300\n",
            "9/9 [==============================] - 0s 7ms/step - loss: 0.4891 - accuracy: 0.9380 - val_loss: 2.9127 - val_accuracy: 0.5814\n",
            "Epoch 205/300\n",
            "9/9 [==============================] - 0s 7ms/step - loss: 1.2624 - accuracy: 0.7209 - val_loss: 2.7407 - val_accuracy: 0.5116\n",
            "Epoch 206/300\n",
            "9/9 [==============================] - 0s 8ms/step - loss: 1.0190 - accuracy: 0.8140 - val_loss: 2.4702 - val_accuracy: 0.5116\n",
            "Epoch 207/300\n",
            "9/9 [==============================] - 0s 10ms/step - loss: 0.8039 - accuracy: 0.9147 - val_loss: 2.5497 - val_accuracy: 0.5116\n",
            "Epoch 208/300\n",
            "9/9 [==============================] - 0s 9ms/step - loss: 0.6587 - accuracy: 0.9302 - val_loss: 2.7316 - val_accuracy: 0.6279\n",
            "Epoch 209/300\n",
            "9/9 [==============================] - 0s 7ms/step - loss: 0.5439 - accuracy: 0.9612 - val_loss: 2.8094 - val_accuracy: 0.5814\n",
            "Epoch 210/300\n",
            "9/9 [==============================] - 0s 7ms/step - loss: 0.4863 - accuracy: 0.9845 - val_loss: 2.8939 - val_accuracy: 0.6279\n",
            "Epoch 211/300\n",
            "9/9 [==============================] - 0s 7ms/step - loss: 0.4539 - accuracy: 0.9922 - val_loss: 2.9107 - val_accuracy: 0.6279\n",
            "Epoch 212/300\n",
            "9/9 [==============================] - 0s 7ms/step - loss: 0.4343 - accuracy: 0.9922 - val_loss: 3.0996 - val_accuracy: 0.6279\n",
            "Epoch 213/300\n",
            "9/9 [==============================] - 0s 7ms/step - loss: 0.4202 - accuracy: 0.9922 - val_loss: 3.0851 - val_accuracy: 0.6047\n",
            "Epoch 214/300\n",
            "9/9 [==============================] - 0s 7ms/step - loss: 0.4159 - accuracy: 0.9845 - val_loss: 3.0821 - val_accuracy: 0.6047\n",
            "Epoch 215/300\n",
            "9/9 [==============================] - 0s 9ms/step - loss: 0.4024 - accuracy: 0.9845 - val_loss: 3.1029 - val_accuracy: 0.6047\n",
            "Epoch 216/300\n",
            "9/9 [==============================] - 0s 7ms/step - loss: 0.3930 - accuracy: 0.9922 - val_loss: 3.2777 - val_accuracy: 0.6279\n",
            "Epoch 217/300\n",
            "9/9 [==============================] - 0s 7ms/step - loss: 0.3887 - accuracy: 0.9922 - val_loss: 3.0859 - val_accuracy: 0.6047\n",
            "Epoch 218/300\n",
            "9/9 [==============================] - 0s 7ms/step - loss: 0.3844 - accuracy: 0.9922 - val_loss: 3.1477 - val_accuracy: 0.6279\n",
            "Epoch 219/300\n",
            "9/9 [==============================] - 0s 10ms/step - loss: 0.3806 - accuracy: 0.9845 - val_loss: 3.1621 - val_accuracy: 0.6047\n",
            "Epoch 220/300\n",
            "9/9 [==============================] - 0s 7ms/step - loss: 0.3704 - accuracy: 0.9922 - val_loss: 3.2045 - val_accuracy: 0.6512\n",
            "Epoch 221/300\n",
            "9/9 [==============================] - 0s 7ms/step - loss: 0.3820 - accuracy: 0.9845 - val_loss: 3.1156 - val_accuracy: 0.6047\n",
            "Epoch 222/300\n",
            "9/9 [==============================] - 0s 8ms/step - loss: 0.3636 - accuracy: 0.9922 - val_loss: 3.1158 - val_accuracy: 0.6279\n",
            "Epoch 223/300\n",
            "9/9 [==============================] - 0s 8ms/step - loss: 0.3627 - accuracy: 0.9922 - val_loss: 3.0461 - val_accuracy: 0.6047\n",
            "Epoch 224/300\n",
            "9/9 [==============================] - 0s 7ms/step - loss: 0.3535 - accuracy: 0.9922 - val_loss: 3.1313 - val_accuracy: 0.6279\n",
            "Epoch 225/300\n",
            "9/9 [==============================] - 0s 7ms/step - loss: 0.3646 - accuracy: 0.9845 - val_loss: 3.0998 - val_accuracy: 0.6279\n",
            "Epoch 226/300\n",
            "9/9 [==============================] - 0s 9ms/step - loss: 0.3567 - accuracy: 0.9922 - val_loss: 3.1920 - val_accuracy: 0.6512\n",
            "Epoch 227/300\n",
            "9/9 [==============================] - 0s 7ms/step - loss: 0.3505 - accuracy: 0.9922 - val_loss: 3.0988 - val_accuracy: 0.6279\n",
            "Epoch 228/300\n",
            "9/9 [==============================] - 0s 7ms/step - loss: 0.3532 - accuracy: 0.9922 - val_loss: 3.1249 - val_accuracy: 0.6512\n",
            "Epoch 229/300\n",
            "9/9 [==============================] - 0s 7ms/step - loss: 0.3534 - accuracy: 0.9845 - val_loss: 3.1325 - val_accuracy: 0.5814\n",
            "Epoch 230/300\n",
            "9/9 [==============================] - 0s 7ms/step - loss: 0.3469 - accuracy: 0.9922 - val_loss: 3.1675 - val_accuracy: 0.6279\n",
            "Epoch 231/300\n",
            "9/9 [==============================] - 0s 8ms/step - loss: 0.3519 - accuracy: 0.9922 - val_loss: 3.0511 - val_accuracy: 0.5349\n",
            "Epoch 232/300\n",
            "9/9 [==============================] - 0s 8ms/step - loss: 0.3800 - accuracy: 0.9845 - val_loss: 3.0673 - val_accuracy: 0.6047\n",
            "Epoch 233/300\n",
            "9/9 [==============================] - 0s 10ms/step - loss: 0.3380 - accuracy: 0.9922 - val_loss: 2.9977 - val_accuracy: 0.5814\n",
            "Epoch 234/300\n",
            "9/9 [==============================] - 0s 8ms/step - loss: 0.3371 - accuracy: 0.9922 - val_loss: 3.0162 - val_accuracy: 0.6047\n",
            "Epoch 235/300\n",
            "9/9 [==============================] - 0s 7ms/step - loss: 0.3316 - accuracy: 0.9922 - val_loss: 3.1665 - val_accuracy: 0.6047\n",
            "Epoch 236/300\n",
            "9/9 [==============================] - 0s 7ms/step - loss: 0.3298 - accuracy: 0.9845 - val_loss: 3.0666 - val_accuracy: 0.6047\n",
            "Epoch 237/300\n",
            "9/9 [==============================] - 0s 7ms/step - loss: 0.3188 - accuracy: 0.9922 - val_loss: 3.1368 - val_accuracy: 0.6047\n",
            "Epoch 238/300\n",
            "9/9 [==============================] - 0s 9ms/step - loss: 0.3236 - accuracy: 0.9922 - val_loss: 3.0375 - val_accuracy: 0.6279\n",
            "Epoch 239/300\n",
            "9/9 [==============================] - 0s 8ms/step - loss: 0.3344 - accuracy: 0.9922 - val_loss: 3.3421 - val_accuracy: 0.5581\n",
            "Epoch 240/300\n",
            "9/9 [==============================] - 0s 7ms/step - loss: 0.3407 - accuracy: 0.9845 - val_loss: 2.9056 - val_accuracy: 0.6279\n",
            "Epoch 241/300\n",
            "9/9 [==============================] - 0s 7ms/step - loss: 0.3313 - accuracy: 0.9922 - val_loss: 2.9117 - val_accuracy: 0.6047\n",
            "Epoch 242/300\n",
            "9/9 [==============================] - 0s 7ms/step - loss: 0.4505 - accuracy: 0.9535 - val_loss: 4.0332 - val_accuracy: 0.3721\n",
            "Epoch 243/300\n",
            "9/9 [==============================] - 0s 8ms/step - loss: 2.0826 - accuracy: 0.6279 - val_loss: 2.4079 - val_accuracy: 0.5349\n",
            "Epoch 244/300\n",
            "9/9 [==============================] - 0s 7ms/step - loss: 1.5262 - accuracy: 0.6124 - val_loss: 2.4970 - val_accuracy: 0.5581\n",
            "Epoch 245/300\n",
            "9/9 [==============================] - 0s 7ms/step - loss: 1.3111 - accuracy: 0.7597 - val_loss: 2.4988 - val_accuracy: 0.5116\n",
            "Epoch 246/300\n",
            "9/9 [==============================] - 0s 8ms/step - loss: 0.9395 - accuracy: 0.8915 - val_loss: 3.0742 - val_accuracy: 0.5581\n",
            "Epoch 247/300\n",
            "9/9 [==============================] - 0s 7ms/step - loss: 0.7014 - accuracy: 0.9225 - val_loss: 3.0161 - val_accuracy: 0.6047\n",
            "Epoch 248/300\n",
            "9/9 [==============================] - 0s 7ms/step - loss: 0.6645 - accuracy: 0.9147 - val_loss: 3.3562 - val_accuracy: 0.6047\n",
            "Epoch 249/300\n",
            "9/9 [==============================] - 0s 9ms/step - loss: 0.5817 - accuracy: 0.9612 - val_loss: 3.1827 - val_accuracy: 0.6279\n",
            "Epoch 250/300\n",
            "9/9 [==============================] - 0s 8ms/step - loss: 0.5087 - accuracy: 0.9845 - val_loss: 3.3061 - val_accuracy: 0.6279\n",
            "Epoch 251/300\n",
            "9/9 [==============================] - 0s 9ms/step - loss: 0.4803 - accuracy: 0.9845 - val_loss: 3.2855 - val_accuracy: 0.6047\n",
            "Epoch 252/300\n",
            "9/9 [==============================] - 0s 9ms/step - loss: 0.4578 - accuracy: 0.9845 - val_loss: 3.4244 - val_accuracy: 0.5814\n",
            "Epoch 253/300\n",
            "9/9 [==============================] - 0s 8ms/step - loss: 0.4329 - accuracy: 0.9922 - val_loss: 3.4902 - val_accuracy: 0.6047\n",
            "Epoch 254/300\n",
            "9/9 [==============================] - 0s 7ms/step - loss: 0.4226 - accuracy: 0.9922 - val_loss: 3.4516 - val_accuracy: 0.6047\n",
            "Epoch 255/300\n",
            "9/9 [==============================] - 0s 9ms/step - loss: 0.4105 - accuracy: 0.9922 - val_loss: 3.5226 - val_accuracy: 0.5814\n",
            "Epoch 256/300\n",
            "9/9 [==============================] - 0s 8ms/step - loss: 0.4019 - accuracy: 0.9845 - val_loss: 3.5339 - val_accuracy: 0.5814\n",
            "Epoch 257/300\n",
            "9/9 [==============================] - 0s 8ms/step - loss: 0.3937 - accuracy: 0.9845 - val_loss: 3.5830 - val_accuracy: 0.5581\n",
            "Epoch 258/300\n",
            "9/9 [==============================] - 0s 8ms/step - loss: 0.3826 - accuracy: 0.9845 - val_loss: 3.4659 - val_accuracy: 0.6279\n",
            "Epoch 259/300\n",
            "9/9 [==============================] - 0s 9ms/step - loss: 0.3768 - accuracy: 0.9922 - val_loss: 3.5725 - val_accuracy: 0.5814\n",
            "Epoch 260/300\n",
            "9/9 [==============================] - 0s 9ms/step - loss: 0.3758 - accuracy: 0.9922 - val_loss: 3.5285 - val_accuracy: 0.6512\n",
            "Epoch 261/300\n",
            "9/9 [==============================] - 0s 8ms/step - loss: 0.3715 - accuracy: 0.9845 - val_loss: 3.4891 - val_accuracy: 0.5814\n",
            "Epoch 262/300\n",
            "9/9 [==============================] - 0s 7ms/step - loss: 0.3765 - accuracy: 0.9922 - val_loss: 3.5973 - val_accuracy: 0.6047\n",
            "Epoch 263/300\n",
            "9/9 [==============================] - 0s 8ms/step - loss: 0.3945 - accuracy: 0.9922 - val_loss: 3.5187 - val_accuracy: 0.6279\n",
            "Epoch 264/300\n",
            "9/9 [==============================] - 0s 8ms/step - loss: 0.3993 - accuracy: 0.9767 - val_loss: 3.8729 - val_accuracy: 0.5116\n",
            "Epoch 265/300\n",
            "9/9 [==============================] - 0s 8ms/step - loss: 0.3935 - accuracy: 0.9922 - val_loss: 3.2910 - val_accuracy: 0.6047\n",
            "Epoch 266/300\n",
            "9/9 [==============================] - 0s 9ms/step - loss: 0.3701 - accuracy: 0.9922 - val_loss: 3.4815 - val_accuracy: 0.6512\n",
            "Epoch 267/300\n",
            "9/9 [==============================] - 0s 8ms/step - loss: 0.3636 - accuracy: 0.9922 - val_loss: 3.4055 - val_accuracy: 0.6279\n",
            "Epoch 268/300\n",
            "9/9 [==============================] - 0s 7ms/step - loss: 0.3599 - accuracy: 0.9922 - val_loss: 3.5715 - val_accuracy: 0.6047\n",
            "Epoch 269/300\n",
            "9/9 [==============================] - 0s 8ms/step - loss: 0.3465 - accuracy: 0.9922 - val_loss: 3.5353 - val_accuracy: 0.6279\n",
            "Epoch 270/300\n",
            "9/9 [==============================] - 0s 8ms/step - loss: 0.3374 - accuracy: 0.9922 - val_loss: 3.4479 - val_accuracy: 0.5814\n",
            "Epoch 271/300\n",
            "9/9 [==============================] - 0s 8ms/step - loss: 0.3322 - accuracy: 0.9845 - val_loss: 3.5015 - val_accuracy: 0.5581\n",
            "Epoch 272/300\n",
            "9/9 [==============================] - 0s 8ms/step - loss: 0.3310 - accuracy: 0.9845 - val_loss: 3.4810 - val_accuracy: 0.5814\n",
            "Epoch 273/300\n",
            "9/9 [==============================] - 0s 9ms/step - loss: 0.3237 - accuracy: 0.9845 - val_loss: 3.5434 - val_accuracy: 0.5349\n",
            "Epoch 274/300\n",
            "9/9 [==============================] - 0s 8ms/step - loss: 0.3185 - accuracy: 0.9922 - val_loss: 3.4475 - val_accuracy: 0.6279\n",
            "Epoch 275/300\n",
            "9/9 [==============================] - 0s 8ms/step - loss: 0.3175 - accuracy: 0.9845 - val_loss: 3.4341 - val_accuracy: 0.5814\n",
            "Epoch 276/300\n",
            "9/9 [==============================] - 0s 8ms/step - loss: 0.3177 - accuracy: 0.9922 - val_loss: 3.4480 - val_accuracy: 0.5581\n",
            "Epoch 277/300\n",
            "9/9 [==============================] - 0s 7ms/step - loss: 0.3103 - accuracy: 0.9922 - val_loss: 3.4983 - val_accuracy: 0.6279\n",
            "Epoch 278/300\n",
            "9/9 [==============================] - 0s 7ms/step - loss: 0.3201 - accuracy: 0.9845 - val_loss: 3.3592 - val_accuracy: 0.6047\n",
            "Epoch 279/300\n",
            "9/9 [==============================] - 0s 9ms/step - loss: 0.2998 - accuracy: 0.9922 - val_loss: 3.4414 - val_accuracy: 0.6047\n",
            "Epoch 280/300\n",
            "9/9 [==============================] - 0s 7ms/step - loss: 0.3110 - accuracy: 0.9922 - val_loss: 3.2511 - val_accuracy: 0.6279\n",
            "Epoch 281/300\n",
            "9/9 [==============================] - 0s 8ms/step - loss: 0.3027 - accuracy: 0.9922 - val_loss: 3.2885 - val_accuracy: 0.6047\n",
            "Epoch 282/300\n",
            "9/9 [==============================] - 0s 8ms/step - loss: 0.3029 - accuracy: 0.9922 - val_loss: 3.1767 - val_accuracy: 0.5349\n",
            "Epoch 283/300\n",
            "9/9 [==============================] - 0s 7ms/step - loss: 0.8024 - accuracy: 0.8295 - val_loss: 2.8809 - val_accuracy: 0.5814\n",
            "Epoch 284/300\n",
            "9/9 [==============================] - 0s 8ms/step - loss: 0.5804 - accuracy: 0.9457 - val_loss: 2.4966 - val_accuracy: 0.6279\n",
            "Epoch 285/300\n",
            "9/9 [==============================] - 0s 7ms/step - loss: 0.6736 - accuracy: 0.9302 - val_loss: 3.2642 - val_accuracy: 0.5581\n",
            "Epoch 286/300\n",
            "9/9 [==============================] - 0s 7ms/step - loss: 0.6010 - accuracy: 0.9302 - val_loss: 3.7138 - val_accuracy: 0.4651\n",
            "Epoch 287/300\n",
            "9/9 [==============================] - 0s 7ms/step - loss: 0.5874 - accuracy: 0.9302 - val_loss: 3.1400 - val_accuracy: 0.6047\n",
            "Epoch 288/300\n",
            "9/9 [==============================] - 0s 7ms/step - loss: 0.4652 - accuracy: 0.9767 - val_loss: 3.1118 - val_accuracy: 0.6279\n",
            "Epoch 289/300\n",
            "9/9 [==============================] - 0s 7ms/step - loss: 0.4028 - accuracy: 0.9922 - val_loss: 3.1145 - val_accuracy: 0.6279\n",
            "Epoch 290/300\n",
            "9/9 [==============================] - 0s 7ms/step - loss: 0.4027 - accuracy: 0.9845 - val_loss: 3.3490 - val_accuracy: 0.6047\n",
            "Epoch 291/300\n",
            "9/9 [==============================] - 0s 8ms/step - loss: 0.3759 - accuracy: 0.9922 - val_loss: 3.5339 - val_accuracy: 0.5581\n",
            "Epoch 292/300\n",
            "9/9 [==============================] - 0s 8ms/step - loss: 0.3603 - accuracy: 0.9922 - val_loss: 3.4158 - val_accuracy: 0.5814\n",
            "Epoch 293/300\n",
            "9/9 [==============================] - 0s 7ms/step - loss: 0.3459 - accuracy: 0.9922 - val_loss: 3.4524 - val_accuracy: 0.6512\n",
            "Epoch 294/300\n",
            "9/9 [==============================] - 0s 8ms/step - loss: 0.3368 - accuracy: 0.9922 - val_loss: 3.4740 - val_accuracy: 0.5814\n",
            "Epoch 295/300\n",
            "9/9 [==============================] - 0s 10ms/step - loss: 0.3280 - accuracy: 0.9922 - val_loss: 3.4938 - val_accuracy: 0.5814\n",
            "Epoch 296/300\n",
            "9/9 [==============================] - 0s 7ms/step - loss: 0.3207 - accuracy: 0.9922 - val_loss: 3.4871 - val_accuracy: 0.6047\n",
            "Epoch 297/300\n",
            "9/9 [==============================] - 0s 8ms/step - loss: 0.3137 - accuracy: 0.9922 - val_loss: 3.5013 - val_accuracy: 0.5814\n",
            "Epoch 298/300\n",
            "9/9 [==============================] - 0s 8ms/step - loss: 0.3100 - accuracy: 0.9922 - val_loss: 3.5197 - val_accuracy: 0.5581\n",
            "Epoch 299/300\n",
            "9/9 [==============================] - 0s 7ms/step - loss: 0.3032 - accuracy: 0.9922 - val_loss: 3.4681 - val_accuracy: 0.5814\n",
            "Epoch 300/300\n",
            "9/9 [==============================] - 0s 8ms/step - loss: 0.3031 - accuracy: 0.9922 - val_loss: 3.4921 - val_accuracy: 0.5581\n"
          ]
        }
      ],
      "source": [
        "history = model.fit(X_train,y_train,epochs=300,verbose=1, batch_size=16, validation_data=test_data)"
      ]
    },
    {
      "cell_type": "code",
      "execution_count": 213,
      "metadata": {
        "colab": {
          "base_uri": "https://localhost:8080/"
        },
        "id": "xPCjkJ_fa95U",
        "outputId": "68d0c147-8f52-4636-f6b1-046892914dce"
      },
      "outputs": [
        {
          "name": "stdout",
          "output_type": "stream",
          "text": [
            "3/3 [==============================] - 0s 5ms/step - loss: 3.4921 - accuracy: 0.5581\n"
          ]
        }
      ],
      "source": [
        "preds = model.evaluate(X_test, y_test, batch_size=16)"
      ]
    },
    {
      "cell_type": "code",
      "execution_count": 214,
      "metadata": {
        "colab": {
          "base_uri": "https://localhost:8080/",
          "height": 421
        },
        "id": "hij_EN1LtMip",
        "outputId": "4dd32f4b-ddd9-457f-f236-0f9b727eb4fb"
      },
      "outputs": [
        {
          "data": {
            "text/plain": [
              "Text(0.5, 1.0, 'Loss Curves')"
            ]
          },
          "execution_count": 214,
          "metadata": {},
          "output_type": "execute_result"
        },
        {
          "data": {
            "image/png": "[encoded data removed]",
            "text/plain": [
              "<Figure size 576x432 with 1 Axes>"
            ]
          },
          "metadata": {
            "needs_background": "light"
          },
          "output_type": "display_data"
        }
      ],
      "source": [
        "plt.figure(figsize=[8,6])\n",
        "plt.plot(history.history['loss'], 'blue', linewidth=2.0)\n",
        "plt.plot(history.history['val_loss'], 'red', linewidth=2.0)\n",
        "plt.legend(['Training Loss', 'Validation Loss'], fontsize=14)\n",
        "plt.xlabel('Epochs', fontsize=10)\n",
        "plt.ylabel('Loss', fontsize=10)\n",
        "plt.title('Loss Curves', fontsize=12)"
      ]
    },
    {
      "cell_type": "code",
      "execution_count": 215,
      "metadata": {
        "colab": {
          "base_uri": "https://localhost:8080/",
          "height": 421
        },
        "id": "3t6uny10tSbP",
        "outputId": "b9d5d8d3-631c-4a35-b95a-1a4365df1a3d"
      },
      "outputs": [
        {
          "data": {
            "text/plain": [
              "Text(0.5, 1.0, 'Accuracy Curves')"
            ]
          },
          "execution_count": 215,
          "metadata": {},
          "output_type": "execute_result"
        },
        {
          "data": {
            "image/png": "[encoded data removed]",
            "text/plain": [
              "<Figure size 576x432 with 1 Axes>"
            ]
          },
          "metadata": {
            "needs_background": "light"
          },
          "output_type": "display_data"
        }
      ],
      "source": [
        "plt.figure(figsize=[8,6])\n",
        "plt.plot(history.history['accuracy'], 'blue', linewidth=2.0)\n",
        "plt.plot(history.history['val_accuracy'], 'red', linewidth=2.0)\n",
        "plt.legend(['Training accuracy', 'Validation accuracy'], fontsize=14)\n",
        "plt.xlabel('Epochs', fontsize=10)\n",
        "plt.ylabel('Accuracy', fontsize=10)\n",
        "plt.title('Accuracy Curves', fontsize=12)"
      ]
    },
    {
      "cell_type": "code",
      "execution_count": 74,
      "metadata": {
        "id": "HoCzeISQtav8"
      },
      "outputs": [],
      "source": []
    }
  ],
  "metadata": {
    "accelerator": "GPU",
    "colab": {
      "collapsed_sections": [],
      "name": "Model.ipynb",
      "provenance": []
    },
    "gpuClass": "standard",
    "kernelspec": {
      "display_name": "Python 3.9.1 64-bit",
      "language": "python",
      "name": "python3"
    },
    "language_info": {
      "codemirror_mode": {
        "name": "ipython",
        "version": 3
      },
      "file_extension": ".py",
      "mimetype": "text/x-python",
      "name": "python",
      "nbconvert_exporter": "python",
      "pygments_lexer": "ipython3",
      "version": "3.9.1"
    },
    "vscode": {
      "interpreter": {
        "hash": "df489fb1e130da9f6ba5d7b964fc8c0a95ac36686e5462b4af8e73863edb035e"
      }
    }
  },
  "nbformat": 4,
  "nbformat_minor": 0
}
